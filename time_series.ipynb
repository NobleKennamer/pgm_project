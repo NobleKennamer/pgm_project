{
 "cells": [
  {
   "cell_type": "code",
   "execution_count": 30,
   "metadata": {
    "collapsed": false
   },
   "outputs": [
    {
     "name": "stdout",
     "output_type": "stream",
     "text": [
      "Populating the interactive namespace from numpy and matplotlib\n"
     ]
    },
    {
     "name": "stderr",
     "output_type": "stream",
     "text": [
      "WARNING: pylab import has clobbered these variables: ['datetime', 'test']\n",
      "`%matplotlib` prevents importing * from pylab and numpy\n"
     ]
    }
   ],
   "source": [
    "%pylab inline"
   ]
  },
  {
   "cell_type": "code",
   "execution_count": 31,
   "metadata": {
    "collapsed": false
   },
   "outputs": [],
   "source": [
    "import seaborn as sns\n",
    "import pandas as pd\n",
    "import gensim\n",
    "import nltk\n",
    "import re\n",
    "import string\n",
    "from curses.ascii import isprint\n",
    "from mpl_toolkits.basemap import Basemap\n",
    "import matplotlib.pyplot as plt\n",
    "from datetime import datetime"
   ]
  },
  {
   "cell_type": "code",
   "execution_count": 32,
   "metadata": {
    "collapsed": true
   },
   "outputs": [],
   "source": [
    "def clean_text(text):\n",
    "    # Remove any beginning or ending whitespace\n",
    "    text.strip()\n",
    "    # Combine conjunctions\n",
    "    text = re.sub(r\"'\", \" \", text)\n",
    "    # Replace punctuation with space\n",
    "    text = text.translate(string.maketrans(string.punctuation,''.join(\" \" for char in string.punctuation)))\n",
    "    # Replace all control characters\n",
    "    #text = ''.join(char for char in text if isprint(char))\n",
    "    #text = re.sub(r\"\\n\", \" \", text)\n",
    "    # Remove Digits\n",
    "    text = re.sub(r\"[0-9]\", \" \", text)\n",
    "    \n",
    "    \n",
    "    text = text.lower()\n",
    "    \n",
    "    text_list = [token for token in text.split() if token not in stop_words and len(token) > 1]\n",
    "    \n",
    "    return text_list"
   ]
  },
  {
   "cell_type": "code",
   "execution_count": 33,
   "metadata": {
    "collapsed": true
   },
   "outputs": [],
   "source": [
    "corpus = gensim.corpora.MmCorpus('models/corpus.mm')\n",
    "dictionary = gensim.corpora.Dictionary.load('models/dictionary.dict')\n",
    "lda = gensim.models.LdaModel.load('models/emails_lda.model')"
   ]
  },
  {
   "cell_type": "code",
   "execution_count": 34,
   "metadata": {
    "collapsed": false
   },
   "outputs": [],
   "source": [
    "stop_words = set(open('stop_words').read().split('\\n')[:-1])\n",
    "emails_table = pd.read_csv(\"data/emails/Emails.csv\").dropna()\n",
    "person_table = pd.read_csv(\"data/emails/Persons.csv\").dropna()\n",
    "alias_table = pd.read_csv(\"data/emails/Aliases.csv\").dropna()\n",
    "email_rec_table = pd.read_csv(\"data/emails/EmailReceivers.csv\").dropna()\n",
    "emails_table['doc'] = emails_table[\"ExtractedSubject\"] + \" \" + emails_table[\"ExtractedBodyText\"]\n",
    "emails_table['token_list'] = emails_table['doc'].apply(lambda s: clean_text(s))"
   ]
  },
  {
   "cell_type": "code",
   "execution_count": 35,
   "metadata": {
    "collapsed": false
   },
   "outputs": [
    {
     "data": {
      "text/html": [
       "<div>\n",
       "<table border=\"1\" class=\"dataframe\">\n",
       "  <thead>\n",
       "    <tr style=\"text-align: right;\">\n",
       "      <th></th>\n",
       "      <th>Id</th>\n",
       "      <th>DocNumber</th>\n",
       "      <th>MetadataSubject</th>\n",
       "      <th>MetadataTo</th>\n",
       "      <th>MetadataFrom</th>\n",
       "      <th>SenderPersonId</th>\n",
       "      <th>MetadataDateSent</th>\n",
       "      <th>MetadataDateReleased</th>\n",
       "      <th>MetadataPdfLink</th>\n",
       "      <th>MetadataCaseNumber</th>\n",
       "      <th>...</th>\n",
       "      <th>ExtractedCc</th>\n",
       "      <th>ExtractedDateSent</th>\n",
       "      <th>ExtractedCaseNumber</th>\n",
       "      <th>ExtractedDocNumber</th>\n",
       "      <th>ExtractedDateReleased</th>\n",
       "      <th>ExtractedReleaseInPartOrFull</th>\n",
       "      <th>ExtractedBodyText</th>\n",
       "      <th>RawText</th>\n",
       "      <th>doc</th>\n",
       "      <th>token_list</th>\n",
       "    </tr>\n",
       "  </thead>\n",
       "  <tbody>\n",
       "    <tr>\n",
       "      <th>2</th>\n",
       "      <td>3</td>\n",
       "      <td>C05739547</td>\n",
       "      <td>CHRIS STEVENS</td>\n",
       "      <td>;H</td>\n",
       "      <td>Mills, Cheryl D</td>\n",
       "      <td>32.0</td>\n",
       "      <td>2012-09-12T04:00:00+00:00</td>\n",
       "      <td>2015-05-22T04:00:00+00:00</td>\n",
       "      <td>DOCUMENTS/HRC_Email_1_296/HRCH2/DOC_0C05739547...</td>\n",
       "      <td>F-2015-04841</td>\n",
       "      <td>...</td>\n",
       "      <td>Abedin, Huma</td>\n",
       "      <td>Wednesday, September 12, 2012 11:52 AM</td>\n",
       "      <td>F-2015-04841</td>\n",
       "      <td>C05739547</td>\n",
       "      <td>05/14/2015</td>\n",
       "      <td>RELEASE IN PART</td>\n",
       "      <td>Thx</td>\n",
       "      <td>UNCLASSIFIED\\nU.S. Department of State\\nCase N...</td>\n",
       "      <td>Re: Chris Stevens Thx</td>\n",
       "      <td>[chris, stevens]</td>\n",
       "    </tr>\n",
       "    <tr>\n",
       "      <th>16</th>\n",
       "      <td>17</td>\n",
       "      <td>C05739573</td>\n",
       "      <td>THE YOUTH OF LIBYA</td>\n",
       "      <td>H</td>\n",
       "      <td>Sherman, Wendy R</td>\n",
       "      <td>213.0</td>\n",
       "      <td>2012-09-12T04:00:00+00:00</td>\n",
       "      <td>2015-05-22T04:00:00+00:00</td>\n",
       "      <td>DOCUMENTS/HRC_Email_1_296/HRCH2/DOC_0C05739573...</td>\n",
       "      <td>F-2015-04841</td>\n",
       "      <td>...</td>\n",
       "      <td>Escrogirna, Ana A; Grantham, Chris W</td>\n",
       "      <td>Wednesday, September 12, 2012 9:57 PM</td>\n",
       "      <td>F-2015-04841</td>\n",
       "      <td>C05739573</td>\n",
       "      <td>05/13/2015</td>\n",
       "      <td>RELEASE IN FULL</td>\n",
       "      <td>Hope. See picture below Kamala sent.</td>\n",
       "      <td>-ottgat,t\\n4 44 4, 0\\n.\\n1.3.141.4443\\nUNCLASS...</td>\n",
       "      <td>Fw: The Youth of Libya Hope. See picture below...</td>\n",
       "      <td>[youth, libya, hope, picture, below, kamala]</td>\n",
       "    </tr>\n",
       "    <tr>\n",
       "      <th>17</th>\n",
       "      <td>18</td>\n",
       "      <td>C05739575</td>\n",
       "      <td>ONE MORE PHOTO</td>\n",
       "      <td>H</td>\n",
       "      <td>Sherman, Wendy R</td>\n",
       "      <td>213.0</td>\n",
       "      <td>2012-09-12T04:00:00+00:00</td>\n",
       "      <td>2015-05-22T04:00:00+00:00</td>\n",
       "      <td>DOCUMENTS/HRC_Email_1_296/HRCH2/DOC_0C05739575...</td>\n",
       "      <td>F-2015-04841</td>\n",
       "      <td>...</td>\n",
       "      <td>Escrogima, Ana A</td>\n",
       "      <td>Wednesday, September 12, 2012 10:03 PM</td>\n",
       "      <td>F-2015-04841</td>\n",
       "      <td>C05739575</td>\n",
       "      <td>05/13/2015</td>\n",
       "      <td>RELEASE IN FULL</td>\n",
       "      <td>Another photo.</td>\n",
       "      <td>c. 371.14\\nUNCLASSIFIED\\nU.S. Department of St...</td>\n",
       "      <td>Fw: One More Photo Another photo.</td>\n",
       "      <td>[photo, photo]</td>\n",
       "    </tr>\n",
       "    <tr>\n",
       "      <th>65</th>\n",
       "      <td>66</td>\n",
       "      <td>C05739638</td>\n",
       "      <td>BRITS AND LIBYA</td>\n",
       "      <td>sullivanjj@state.gov</td>\n",
       "      <td>H</td>\n",
       "      <td>80.0</td>\n",
       "      <td>2011-04-02T04:00:00+00:00</td>\n",
       "      <td>2015-05-22T04:00:00+00:00</td>\n",
       "      <td>DOCUMENTS/HRC_Email_1_296/HRCH1/DOC_0C05739638...</td>\n",
       "      <td>F-2015-04841</td>\n",
       "      <td>...</td>\n",
       "      <td>Huma Abedin</td>\n",
       "      <td>Saturday, April 02, 2011 1034 AM</td>\n",
       "      <td>F-2015-04841</td>\n",
       "      <td>C05739638</td>\n",
       "      <td>05/13/2015</td>\n",
       "      <td>RELEASE IN PART</td>\n",
       "      <td>When is Chris Stevens going?\\n---,</td>\n",
       "      <td>UNCLASSIFIED\\nU.S. Department of State\\nCase N...</td>\n",
       "      <td>Re: Brits and Libya When is Chris Stevens goin...</td>\n",
       "      <td>[brits, libya, chris, stevens]</td>\n",
       "    </tr>\n",
       "    <tr>\n",
       "      <th>82</th>\n",
       "      <td>83</td>\n",
       "      <td>C05739656</td>\n",
       "      <td>THE CABLE: ROMNEY TO COMPARE BENGHAZI TO ORIGI...</td>\n",
       "      <td>millscd@state.gov</td>\n",
       "      <td>H</td>\n",
       "      <td>80.0</td>\n",
       "      <td>2012-10-08T04:00:00+00:00</td>\n",
       "      <td>2015-05-22T04:00:00+00:00</td>\n",
       "      <td>DOCUMENTS/HRC_Email_1_296/HRCH3/DOC_0C05739656...</td>\n",
       "      <td>F-2015-04841</td>\n",
       "      <td>...</td>\n",
       "      <td>Reines, Philippe 1; Mills, Cheryl D; Adams, Da...</td>\n",
       "      <td>Monday, October 08, 2012 07:26 AM</td>\n",
       "      <td>F-2015-04841</td>\n",
       "      <td>C05739656</td>\n",
       "      <td>05/13/2015</td>\n",
       "      <td>RELEASE IN FULL</td>\n",
       "      <td>Can you call me?</td>\n",
       "      <td>UNCLASSIFIED\\nU.S. Department of State\\nCase N...</td>\n",
       "      <td>Re: The Cable: Romney to compare Benghazi to o...</td>\n",
       "      <td>[cable, romney, compare, benghazi, original, a...</td>\n",
       "    </tr>\n",
       "  </tbody>\n",
       "</table>\n",
       "<p>5 rows × 24 columns</p>\n",
       "</div>"
      ],
      "text/plain": [
       "    Id  DocNumber                                    MetadataSubject  \\\n",
       "2    3  C05739547                                      CHRIS STEVENS   \n",
       "16  17  C05739573                                 THE YOUTH OF LIBYA   \n",
       "17  18  C05739575                                     ONE MORE PHOTO   \n",
       "65  66  C05739638                                    BRITS AND LIBYA   \n",
       "82  83  C05739656  THE CABLE: ROMNEY TO COMPARE BENGHAZI TO ORIGI...   \n",
       "\n",
       "              MetadataTo      MetadataFrom  SenderPersonId  \\\n",
       "2                     ;H   Mills, Cheryl D            32.0   \n",
       "16                     H  Sherman, Wendy R           213.0   \n",
       "17                     H  Sherman, Wendy R           213.0   \n",
       "65  sullivanjj@state.gov                 H            80.0   \n",
       "82     millscd@state.gov                 H            80.0   \n",
       "\n",
       "             MetadataDateSent       MetadataDateReleased  \\\n",
       "2   2012-09-12T04:00:00+00:00  2015-05-22T04:00:00+00:00   \n",
       "16  2012-09-12T04:00:00+00:00  2015-05-22T04:00:00+00:00   \n",
       "17  2012-09-12T04:00:00+00:00  2015-05-22T04:00:00+00:00   \n",
       "65  2011-04-02T04:00:00+00:00  2015-05-22T04:00:00+00:00   \n",
       "82  2012-10-08T04:00:00+00:00  2015-05-22T04:00:00+00:00   \n",
       "\n",
       "                                      MetadataPdfLink MetadataCaseNumber  \\\n",
       "2   DOCUMENTS/HRC_Email_1_296/HRCH2/DOC_0C05739547...       F-2015-04841   \n",
       "16  DOCUMENTS/HRC_Email_1_296/HRCH2/DOC_0C05739573...       F-2015-04841   \n",
       "17  DOCUMENTS/HRC_Email_1_296/HRCH2/DOC_0C05739575...       F-2015-04841   \n",
       "65  DOCUMENTS/HRC_Email_1_296/HRCH1/DOC_0C05739638...       F-2015-04841   \n",
       "82  DOCUMENTS/HRC_Email_1_296/HRCH3/DOC_0C05739656...       F-2015-04841   \n",
       "\n",
       "                          ...                          \\\n",
       "2                         ...                           \n",
       "16                        ...                           \n",
       "17                        ...                           \n",
       "65                        ...                           \n",
       "82                        ...                           \n",
       "\n",
       "                                          ExtractedCc  \\\n",
       "2                                        Abedin, Huma   \n",
       "16               Escrogirna, Ana A; Grantham, Chris W   \n",
       "17                                   Escrogima, Ana A   \n",
       "65                                        Huma Abedin   \n",
       "82  Reines, Philippe 1; Mills, Cheryl D; Adams, Da...   \n",
       "\n",
       "                         ExtractedDateSent ExtractedCaseNumber  \\\n",
       "2   Wednesday, September 12, 2012 11:52 AM        F-2015-04841   \n",
       "16   Wednesday, September 12, 2012 9:57 PM        F-2015-04841   \n",
       "17  Wednesday, September 12, 2012 10:03 PM        F-2015-04841   \n",
       "65        Saturday, April 02, 2011 1034 AM        F-2015-04841   \n",
       "82       Monday, October 08, 2012 07:26 AM        F-2015-04841   \n",
       "\n",
       "   ExtractedDocNumber ExtractedDateReleased ExtractedReleaseInPartOrFull  \\\n",
       "2           C05739547            05/14/2015              RELEASE IN PART   \n",
       "16          C05739573            05/13/2015              RELEASE IN FULL   \n",
       "17          C05739575            05/13/2015              RELEASE IN FULL   \n",
       "65          C05739638            05/13/2015              RELEASE IN PART   \n",
       "82          C05739656            05/13/2015              RELEASE IN FULL   \n",
       "\n",
       "                       ExtractedBodyText  \\\n",
       "2                                    Thx   \n",
       "16  Hope. See picture below Kamala sent.   \n",
       "17                        Another photo.   \n",
       "65    When is Chris Stevens going?\\n---,   \n",
       "82                      Can you call me?   \n",
       "\n",
       "                                              RawText  \\\n",
       "2   UNCLASSIFIED\\nU.S. Department of State\\nCase N...   \n",
       "16  -ottgat,t\\n4 44 4, 0\\n.\\n1.3.141.4443\\nUNCLASS...   \n",
       "17  c. 371.14\\nUNCLASSIFIED\\nU.S. Department of St...   \n",
       "65  UNCLASSIFIED\\nU.S. Department of State\\nCase N...   \n",
       "82  UNCLASSIFIED\\nU.S. Department of State\\nCase N...   \n",
       "\n",
       "                                                  doc  \\\n",
       "2                               Re: Chris Stevens Thx   \n",
       "16  Fw: The Youth of Libya Hope. See picture below...   \n",
       "17                  Fw: One More Photo Another photo.   \n",
       "65  Re: Brits and Libya When is Chris Stevens goin...   \n",
       "82  Re: The Cable: Romney to compare Benghazi to o...   \n",
       "\n",
       "                                           token_list  \n",
       "2                                    [chris, stevens]  \n",
       "16       [youth, libya, hope, picture, below, kamala]  \n",
       "17                                     [photo, photo]  \n",
       "65                     [brits, libya, chris, stevens]  \n",
       "82  [cable, romney, compare, benghazi, original, a...  \n",
       "\n",
       "[5 rows x 24 columns]"
      ]
     },
     "execution_count": 35,
     "metadata": {},
     "output_type": "execute_result"
    }
   ],
   "source": [
    "emails_table.head()"
   ]
  },
  {
   "cell_type": "code",
   "execution_count": 52,
   "metadata": {
    "collapsed": false
   },
   "outputs": [],
   "source": [
    "test = emails_table[['MetadataDateSent', 'Id']]\n",
    "test = [tuple(x) for x in test.to_records(index=False)]"
   ]
  },
  {
   "cell_type": "code",
   "execution_count": 54,
   "metadata": {
    "collapsed": false
   },
   "outputs": [],
   "source": [
    "test = [(item[1], datetime.strptime(item[0].split('T')[0], '%Y-%m-%d')) for item in test]\n",
    "test = sorted(test, key=lambda x: x[1])"
   ]
  },
  {
   "cell_type": "code",
   "execution_count": 56,
   "metadata": {
    "collapsed": false
   },
   "outputs": [],
   "source": [
    "bin_ends = pd.date_range(start=test[0][1],end=test[-1][1],freq='W')"
   ]
  },
  {
   "cell_type": "code",
   "execution_count": 68,
   "metadata": {
    "collapsed": false
   },
   "outputs": [
    {
     "name": "stdout",
     "output_type": "stream",
     "text": [
      "2009-03-22 00:00:00\n",
      "2009-03-20 00:00:00\n"
     ]
    }
   ],
   "source": [
    "print bin_ends[0].to_datetime()\n",
    "print test[0][1]"
   ]
  },
  {
   "cell_type": "code",
   "execution_count": 69,
   "metadata": {
    "collapsed": false
   },
   "outputs": [
    {
     "ename": "SyntaxError",
     "evalue": "invalid syntax (<ipython-input-69-2edfcff7f1b9>, line 1)",
     "output_type": "error",
     "traceback": [
      "\u001b[1;36m  File \u001b[1;32m\"<ipython-input-69-2edfcff7f1b9>\"\u001b[1;36m, line \u001b[1;32m1\u001b[0m\n\u001b[1;33m    binned = [item[0] for i in range(len(bin_ends)-1) for item in test if (item[1] > bin_ends[i].to_datetime() && item[1] > bin_ends[i+1].to_datetime()  )]\u001b[0m\n\u001b[1;37m                                                                                                                ^\u001b[0m\n\u001b[1;31mSyntaxError\u001b[0m\u001b[1;31m:\u001b[0m invalid syntax\n"
     ]
    }
   ],
   "source": [
    "binned = []\n",
    "for i in range(len(bin_ends))"
   ]
  },
  {
   "cell_type": "code",
   "execution_count": 40,
   "metadata": {
    "collapsed": false
   },
   "outputs": [
    {
     "data": {
      "text/plain": [
       "[1205,\n",
       " 2999,\n",
       " 3004,\n",
       " 3012,\n",
       " 3036,\n",
       " 1207,\n",
       " 1213,\n",
       " 1216,\n",
       " 1217,\n",
       " 1219,\n",
       " 1220,\n",
       " 1223,\n",
       " 1226,\n",
       " 1234,\n",
       " 3059,\n",
       " 3061,\n",
       " 3067,\n",
       " 2558,\n",
       " 697,\n",
       " 701,\n",
       " 702,\n",
       " 704,\n",
       " 2698,\n",
       " 2724,\n",
       " 2727,\n",
       " 708,\n",
       " 2749,\n",
       " 712,\n",
       " 2773,\n",
       " 2789]"
      ]
     },
     "execution_count": 40,
     "metadata": {},
     "output_type": "execute_result"
    }
   ],
   "source": [
    "binned[5]"
   ]
  },
  {
   "cell_type": "code",
   "execution_count": 41,
   "metadata": {
    "collapsed": false
   },
   "outputs": [],
   "source": [
    "binned_docs=[list(emails_table[emails_table['Id'].isin(binned[i])]['token_list']) for i in range(len(binned))]"
   ]
  },
  {
   "cell_type": "code",
   "execution_count": 42,
   "metadata": {
    "collapsed": false
   },
   "outputs": [],
   "source": [
    "alldate = [[] for i in range(lda.num_topics)]\n",
    "for i in range(len(binned_docs)):\n",
    "    newP = lda.get_document_topics(dictionary.doc2bow(item for sublist in binned_docs[i] for item in sublist), .0000000000001)\n",
    "    for item in newP:\n",
    "        alldate[item[0]].append(item[1])"
   ]
  },
  {
   "cell_type": "code",
   "execution_count": 43,
   "metadata": {
    "collapsed": false
   },
   "outputs": [
    {
     "data": {
      "image/png": "[encoded data removed]",
      "text/plain": [
       "<matplotlib.figure.Figure at 0xa2122d0>"
      ]
     },
     "metadata": {},
     "output_type": "display_data"
    }
   ],
   "source": [
    "for i in range(len(alldate)):\n",
    "    plt.plot(range(len(alldate[i])), alldate[i])"
   ]
  },
  {
   "cell_type": "code",
   "execution_count": null,
   "metadata": {
    "collapsed": true
   },
   "outputs": [],
   "source": []
  }
 ],
 "metadata": {
  "kernelspec": {
   "display_name": "Python 2",
   "language": "python",
   "name": "python2"
  },
  "language_info": {
   "codemirror_mode": {
    "name": "ipython",
    "version": 2
   },
   "file_extension": ".py",
   "mimetype": "text/x-python",
   "name": "python",
   "nbconvert_exporter": "python",
   "pygments_lexer": "ipython2",
   "version": "2.7.5+"
  }
 },
 "nbformat": 4,
 "nbformat_minor": 0
}
