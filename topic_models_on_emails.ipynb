{
 "cells": [
  {
   "cell_type": "code",
   "execution_count": 1,
   "metadata": {
    "collapsed": false
   },
   "outputs": [
    {
     "name": "stdout",
     "output_type": "stream",
     "text": [
      "Populating the interactive namespace from numpy and matplotlib\n"
     ]
    }
   ],
   "source": [
    "%pylab inline"
   ]
  },
  {
   "cell_type": "code",
   "execution_count": 2,
   "metadata": {
    "collapsed": true
   },
   "outputs": [],
   "source": [
    "import seaborn as sns\n",
    "import pandas as pd\n",
    "import gensim\n",
    "import nltk\n",
    "import re\n",
    "import string\n",
    "from curses.ascii import isprint"
   ]
  },
  {
   "cell_type": "code",
   "execution_count": 3,
   "metadata": {
    "collapsed": false
   },
   "outputs": [],
   "source": [
    "stop_words = {'a','about','above','across','after','again','against','all','almost','alone','along','already','also','although','always','among','an','and','another','any','anybody','anyone','anything','anywhere','are','area','areas','around','as','ask','asked','asking','asks','at','away','b','back','backed','backing','backs','be','became','because','become','becomes','been','before','began','behind','being','beings','best','better','between','big','both','but','by','c','came','can','cannot','case','cases','certain','certainly','clear','clearly','come','could','d','did','differ','different','differently','do','does','done','down','down','downed','downing','downs','during','e','each','early','either','end','ended','ending','ends','enough','even','evenly','ever','every','everybody','everyone','everything','everywhere','f','face','faces','fact','facts','far','felt','few','find','finds','first','for','four','from','full','fully','further','furthered','furthering','furthers','g','gave','general','generally','get','gets','give','given','gives','go','going','good','goods','got','great','greater','greatest','group','grouped','grouping','groups','h','had','has','have','having','he','her','here','herself','high','high','high','higher','highest','him','himself','his','how','however','i','if','important','in','interest','interested','interesting','interests','into','is','it','its','itself','j','just','k','keep','keeps','kind','knew','know','known','knows','l','large','largely','last','later','latest','least','less','let','lets','like','likely','long','longer','longest','m','made','make','making','man','many','may','me','member','members','men','might','more','most','mostly','mr','mrs','much','must','my','myself','n','necessary','need','needed','needing','needs','never','new','new','newer','newest','next','no','nobody','non','noone','not','nothing','now','nowhere','number','numbers','o','of','off','often','old','older','oldest','on','once','one','only','open','opened','opening','opens','or','order','ordered','ordering','orders','other','others','our','out','over','p','part','parted','parting','parts','per','perhaps','place','places','point','pointed','pointing','points','possible','present','presented','presenting','presents','problem','problems','put','puts','q','quite','r','rather','really','right','right','room','rooms','s','said','same','saw','say','says','second','seconds','see','seem','seemed','seeming','seems','sees','several','shall','she','should','show','showed','showing','shows','side','sides','since','small','smaller','smallest','so','some','somebody','someone','something','somewhere','state','states','still','still','such','sure','t','take','taken','than','that','the','their','them','then','there','therefore','these','they','thing','things','think','thinks','this','those','though','thought','thoughts','three','through','thus','to','today','together','too','took','toward','turn','turned','turning','turns','two','u','under','until','up','upon','us','use','used','uses','v','very','w','want','wanted','wanting','wants','was','way','ways','we','well','wells','went','were','what','when','where','whether','which','while','who','whole','whose','why','will','with','within','without','work','worked','working','works','would','x','y','year','years','yet','you','young','younger','youngest','your','yours','z'}"
   ]
  },
  {
   "cell_type": "code",
   "execution_count": 4,
   "metadata": {
    "collapsed": true
   },
   "outputs": [],
   "source": [
    "stop_words.add('re')\n",
    "stop_words.add('RE')\n",
    "stop_words.add('Re')\n",
    "stop_words.add('fw')\n",
    "stop_words.add('FW')\n",
    "stop_words.add('Fw')\n",
    "# stop_words.add('thx')\n",
    "# stop_words.add('pls')\n",
    "# stop_words.add('call')\n",
    "# stop_words.add('pm')\n",
    "# stop_words.add('am')"
   ]
  },
  {
   "cell_type": "code",
   "execution_count": 5,
   "metadata": {
    "collapsed": false
   },
   "outputs": [],
   "source": [
    "emails_table = pd.read_csv(\"data/emails/Emails.csv\").dropna()\n",
    "person_table = pd.read_csv(\"data/emails/Persons.csv\").dropna()\n",
    "alias_table = pd.read_csv(\"data/emails/Aliases.csv\").dropna()\n",
    "email_rec_table = pd.read_csv(\"data/emails/EmailReceivers.csv\").dropna()"
   ]
  },
  {
   "cell_type": "code",
   "execution_count": 6,
   "metadata": {
    "collapsed": false
   },
   "outputs": [
    {
     "data": {
      "text/html": [
       "<div>\n",
       "<table border=\"1\" class=\"dataframe\">\n",
       "  <thead>\n",
       "    <tr style=\"text-align: right;\">\n",
       "      <th></th>\n",
       "      <th>Id</th>\n",
       "      <th>DocNumber</th>\n",
       "      <th>MetadataSubject</th>\n",
       "      <th>MetadataTo</th>\n",
       "      <th>MetadataFrom</th>\n",
       "      <th>SenderPersonId</th>\n",
       "      <th>MetadataDateSent</th>\n",
       "      <th>MetadataDateReleased</th>\n",
       "      <th>MetadataPdfLink</th>\n",
       "      <th>MetadataCaseNumber</th>\n",
       "      <th>...</th>\n",
       "      <th>ExtractedTo</th>\n",
       "      <th>ExtractedFrom</th>\n",
       "      <th>ExtractedCc</th>\n",
       "      <th>ExtractedDateSent</th>\n",
       "      <th>ExtractedCaseNumber</th>\n",
       "      <th>ExtractedDocNumber</th>\n",
       "      <th>ExtractedDateReleased</th>\n",
       "      <th>ExtractedReleaseInPartOrFull</th>\n",
       "      <th>ExtractedBodyText</th>\n",
       "      <th>RawText</th>\n",
       "    </tr>\n",
       "  </thead>\n",
       "  <tbody>\n",
       "    <tr>\n",
       "      <th>2</th>\n",
       "      <td>3</td>\n",
       "      <td>C05739547</td>\n",
       "      <td>CHRIS STEVENS</td>\n",
       "      <td>;H</td>\n",
       "      <td>Mills, Cheryl D</td>\n",
       "      <td>32.0</td>\n",
       "      <td>2012-09-12T04:00:00+00:00</td>\n",
       "      <td>2015-05-22T04:00:00+00:00</td>\n",
       "      <td>DOCUMENTS/HRC_Email_1_296/HRCH2/DOC_0C05739547...</td>\n",
       "      <td>F-2015-04841</td>\n",
       "      <td>...</td>\n",
       "      <td>B6</td>\n",
       "      <td>Mills, Cheryl D &lt;MillsCD@state.gov&gt;</td>\n",
       "      <td>Abedin, Huma</td>\n",
       "      <td>Wednesday, September 12, 2012 11:52 AM</td>\n",
       "      <td>F-2015-04841</td>\n",
       "      <td>C05739547</td>\n",
       "      <td>05/14/2015</td>\n",
       "      <td>RELEASE IN PART</td>\n",
       "      <td>Thx</td>\n",
       "      <td>UNCLASSIFIED\\nU.S. Department of State\\nCase N...</td>\n",
       "    </tr>\n",
       "    <tr>\n",
       "      <th>16</th>\n",
       "      <td>17</td>\n",
       "      <td>C05739573</td>\n",
       "      <td>THE YOUTH OF LIBYA</td>\n",
       "      <td>H</td>\n",
       "      <td>Sherman, Wendy R</td>\n",
       "      <td>213.0</td>\n",
       "      <td>2012-09-12T04:00:00+00:00</td>\n",
       "      <td>2015-05-22T04:00:00+00:00</td>\n",
       "      <td>DOCUMENTS/HRC_Email_1_296/HRCH2/DOC_0C05739573...</td>\n",
       "      <td>F-2015-04841</td>\n",
       "      <td>...</td>\n",
       "      <td>H; Mills, Cheryl D; Sullivan, Jacob J; Nuiand,...</td>\n",
       "      <td>Sherman, Wendy R &lt;ShermanWR@state.gov&gt;</td>\n",
       "      <td>Escrogirna, Ana A; Grantham, Chris W</td>\n",
       "      <td>Wednesday, September 12, 2012 9:57 PM</td>\n",
       "      <td>F-2015-04841</td>\n",
       "      <td>C05739573</td>\n",
       "      <td>05/13/2015</td>\n",
       "      <td>RELEASE IN FULL</td>\n",
       "      <td>Hope. See picture below Kamala sent.</td>\n",
       "      <td>-ottgat,t\\n4 44 4, 0\\n.\\n1.3.141.4443\\nUNCLASS...</td>\n",
       "    </tr>\n",
       "    <tr>\n",
       "      <th>17</th>\n",
       "      <td>18</td>\n",
       "      <td>C05739575</td>\n",
       "      <td>ONE MORE PHOTO</td>\n",
       "      <td>H</td>\n",
       "      <td>Sherman, Wendy R</td>\n",
       "      <td>213.0</td>\n",
       "      <td>2012-09-12T04:00:00+00:00</td>\n",
       "      <td>2015-05-22T04:00:00+00:00</td>\n",
       "      <td>DOCUMENTS/HRC_Email_1_296/HRCH2/DOC_0C05739575...</td>\n",
       "      <td>F-2015-04841</td>\n",
       "      <td>...</td>\n",
       "      <td>H; Mills, Cheryl D; Sullivan, Jacob J, Nuland,...</td>\n",
       "      <td>Sherman, Wendy R &lt;ShermanWR@state.gov&gt;</td>\n",
       "      <td>Escrogima, Ana A</td>\n",
       "      <td>Wednesday, September 12, 2012 10:03 PM</td>\n",
       "      <td>F-2015-04841</td>\n",
       "      <td>C05739575</td>\n",
       "      <td>05/13/2015</td>\n",
       "      <td>RELEASE IN FULL</td>\n",
       "      <td>Another photo.</td>\n",
       "      <td>c. 371.14\\nUNCLASSIFIED\\nU.S. Department of St...</td>\n",
       "    </tr>\n",
       "    <tr>\n",
       "      <th>65</th>\n",
       "      <td>66</td>\n",
       "      <td>C05739638</td>\n",
       "      <td>BRITS AND LIBYA</td>\n",
       "      <td>sullivanjj@state.gov</td>\n",
       "      <td>H</td>\n",
       "      <td>80.0</td>\n",
       "      <td>2011-04-02T04:00:00+00:00</td>\n",
       "      <td>2015-05-22T04:00:00+00:00</td>\n",
       "      <td>DOCUMENTS/HRC_Email_1_296/HRCH1/DOC_0C05739638...</td>\n",
       "      <td>F-2015-04841</td>\n",
       "      <td>...</td>\n",
       "      <td>'sullivanjj@state.gov'</td>\n",
       "      <td>H &lt;hrod17@clintonemailcom&gt;</td>\n",
       "      <td>Huma Abedin</td>\n",
       "      <td>Saturday, April 02, 2011 1034 AM</td>\n",
       "      <td>F-2015-04841</td>\n",
       "      <td>C05739638</td>\n",
       "      <td>05/13/2015</td>\n",
       "      <td>RELEASE IN PART</td>\n",
       "      <td>When is Chris Stevens going?\\n---,</td>\n",
       "      <td>UNCLASSIFIED\\nU.S. Department of State\\nCase N...</td>\n",
       "    </tr>\n",
       "    <tr>\n",
       "      <th>82</th>\n",
       "      <td>83</td>\n",
       "      <td>C05739656</td>\n",
       "      <td>THE CABLE: ROMNEY TO COMPARE BENGHAZI TO ORIGI...</td>\n",
       "      <td>millscd@state.gov</td>\n",
       "      <td>H</td>\n",
       "      <td>80.0</td>\n",
       "      <td>2012-10-08T04:00:00+00:00</td>\n",
       "      <td>2015-05-22T04:00:00+00:00</td>\n",
       "      <td>DOCUMENTS/HRC_Email_1_296/HRCH3/DOC_0C05739656...</td>\n",
       "      <td>F-2015-04841</td>\n",
       "      <td>...</td>\n",
       "      <td>'miliscd@stategov\"</td>\n",
       "      <td>H &lt;hrod17@clintonemail.com&gt;</td>\n",
       "      <td>Reines, Philippe 1; Mills, Cheryl D; Adams, Da...</td>\n",
       "      <td>Monday, October 08, 2012 07:26 AM</td>\n",
       "      <td>F-2015-04841</td>\n",
       "      <td>C05739656</td>\n",
       "      <td>05/13/2015</td>\n",
       "      <td>RELEASE IN FULL</td>\n",
       "      <td>Can you call me?</td>\n",
       "      <td>UNCLASSIFIED\\nU.S. Department of State\\nCase N...</td>\n",
       "    </tr>\n",
       "  </tbody>\n",
       "</table>\n",
       "<p>5 rows × 22 columns</p>\n",
       "</div>"
      ],
      "text/plain": [
       "    Id  DocNumber                                    MetadataSubject  \\\n",
       "2    3  C05739547                                      CHRIS STEVENS   \n",
       "16  17  C05739573                                 THE YOUTH OF LIBYA   \n",
       "17  18  C05739575                                     ONE MORE PHOTO   \n",
       "65  66  C05739638                                    BRITS AND LIBYA   \n",
       "82  83  C05739656  THE CABLE: ROMNEY TO COMPARE BENGHAZI TO ORIGI...   \n",
       "\n",
       "              MetadataTo      MetadataFrom  SenderPersonId  \\\n",
       "2                     ;H   Mills, Cheryl D            32.0   \n",
       "16                     H  Sherman, Wendy R           213.0   \n",
       "17                     H  Sherman, Wendy R           213.0   \n",
       "65  sullivanjj@state.gov                 H            80.0   \n",
       "82     millscd@state.gov                 H            80.0   \n",
       "\n",
       "             MetadataDateSent       MetadataDateReleased  \\\n",
       "2   2012-09-12T04:00:00+00:00  2015-05-22T04:00:00+00:00   \n",
       "16  2012-09-12T04:00:00+00:00  2015-05-22T04:00:00+00:00   \n",
       "17  2012-09-12T04:00:00+00:00  2015-05-22T04:00:00+00:00   \n",
       "65  2011-04-02T04:00:00+00:00  2015-05-22T04:00:00+00:00   \n",
       "82  2012-10-08T04:00:00+00:00  2015-05-22T04:00:00+00:00   \n",
       "\n",
       "                                      MetadataPdfLink MetadataCaseNumber  \\\n",
       "2   DOCUMENTS/HRC_Email_1_296/HRCH2/DOC_0C05739547...       F-2015-04841   \n",
       "16  DOCUMENTS/HRC_Email_1_296/HRCH2/DOC_0C05739573...       F-2015-04841   \n",
       "17  DOCUMENTS/HRC_Email_1_296/HRCH2/DOC_0C05739575...       F-2015-04841   \n",
       "65  DOCUMENTS/HRC_Email_1_296/HRCH1/DOC_0C05739638...       F-2015-04841   \n",
       "82  DOCUMENTS/HRC_Email_1_296/HRCH3/DOC_0C05739656...       F-2015-04841   \n",
       "\n",
       "                          ...                          \\\n",
       "2                         ...                           \n",
       "16                        ...                           \n",
       "17                        ...                           \n",
       "65                        ...                           \n",
       "82                        ...                           \n",
       "\n",
       "                                          ExtractedTo  \\\n",
       "2                                                  B6   \n",
       "16  H; Mills, Cheryl D; Sullivan, Jacob J; Nuiand,...   \n",
       "17  H; Mills, Cheryl D; Sullivan, Jacob J, Nuland,...   \n",
       "65                             'sullivanjj@state.gov'   \n",
       "82                                 'miliscd@stategov\"   \n",
       "\n",
       "                             ExtractedFrom  \\\n",
       "2      Mills, Cheryl D <MillsCD@state.gov>   \n",
       "16  Sherman, Wendy R <ShermanWR@state.gov>   \n",
       "17  Sherman, Wendy R <ShermanWR@state.gov>   \n",
       "65              H <hrod17@clintonemailcom>   \n",
       "82             H <hrod17@clintonemail.com>   \n",
       "\n",
       "                                          ExtractedCc  \\\n",
       "2                                        Abedin, Huma   \n",
       "16               Escrogirna, Ana A; Grantham, Chris W   \n",
       "17                                   Escrogima, Ana A   \n",
       "65                                        Huma Abedin   \n",
       "82  Reines, Philippe 1; Mills, Cheryl D; Adams, Da...   \n",
       "\n",
       "                         ExtractedDateSent ExtractedCaseNumber  \\\n",
       "2   Wednesday, September 12, 2012 11:52 AM        F-2015-04841   \n",
       "16   Wednesday, September 12, 2012 9:57 PM        F-2015-04841   \n",
       "17  Wednesday, September 12, 2012 10:03 PM        F-2015-04841   \n",
       "65        Saturday, April 02, 2011 1034 AM        F-2015-04841   \n",
       "82       Monday, October 08, 2012 07:26 AM        F-2015-04841   \n",
       "\n",
       "   ExtractedDocNumber ExtractedDateReleased ExtractedReleaseInPartOrFull  \\\n",
       "2           C05739547            05/14/2015              RELEASE IN PART   \n",
       "16          C05739573            05/13/2015              RELEASE IN FULL   \n",
       "17          C05739575            05/13/2015              RELEASE IN FULL   \n",
       "65          C05739638            05/13/2015              RELEASE IN PART   \n",
       "82          C05739656            05/13/2015              RELEASE IN FULL   \n",
       "\n",
       "                       ExtractedBodyText  \\\n",
       "2                                    Thx   \n",
       "16  Hope. See picture below Kamala sent.   \n",
       "17                        Another photo.   \n",
       "65    When is Chris Stevens going?\\n---,   \n",
       "82                      Can you call me?   \n",
       "\n",
       "                                              RawText  \n",
       "2   UNCLASSIFIED\\nU.S. Department of State\\nCase N...  \n",
       "16  -ottgat,t\\n4 44 4, 0\\n.\\n1.3.141.4443\\nUNCLASS...  \n",
       "17  c. 371.14\\nUNCLASSIFIED\\nU.S. Department of St...  \n",
       "65  UNCLASSIFIED\\nU.S. Department of State\\nCase N...  \n",
       "82  UNCLASSIFIED\\nU.S. Department of State\\nCase N...  \n",
       "\n",
       "[5 rows x 22 columns]"
      ]
     },
     "execution_count": 6,
     "metadata": {},
     "output_type": "execute_result"
    }
   ],
   "source": [
    "emails_table.head()"
   ]
  },
  {
   "cell_type": "code",
   "execution_count": 7,
   "metadata": {
    "collapsed": false
   },
   "outputs": [
    {
     "data": {
      "text/html": [
       "<div>\n",
       "<table border=\"1\" class=\"dataframe\">\n",
       "  <thead>\n",
       "    <tr style=\"text-align: right;\">\n",
       "      <th></th>\n",
       "      <th>Id</th>\n",
       "      <th>Name</th>\n",
       "    </tr>\n",
       "  </thead>\n",
       "  <tbody>\n",
       "    <tr>\n",
       "      <th>0</th>\n",
       "      <td>1</td>\n",
       "      <td>111th Congress</td>\n",
       "    </tr>\n",
       "    <tr>\n",
       "      <th>1</th>\n",
       "      <td>2</td>\n",
       "      <td>AGNA USEMB Kabul Afghanistan</td>\n",
       "    </tr>\n",
       "    <tr>\n",
       "      <th>2</th>\n",
       "      <td>3</td>\n",
       "      <td>AP</td>\n",
       "    </tr>\n",
       "    <tr>\n",
       "      <th>3</th>\n",
       "      <td>4</td>\n",
       "      <td>ASUNCION</td>\n",
       "    </tr>\n",
       "    <tr>\n",
       "      <th>4</th>\n",
       "      <td>5</td>\n",
       "      <td>Alec</td>\n",
       "    </tr>\n",
       "  </tbody>\n",
       "</table>\n",
       "</div>"
      ],
      "text/plain": [
       "   Id                          Name\n",
       "0   1                111th Congress\n",
       "1   2  AGNA USEMB Kabul Afghanistan\n",
       "2   3                            AP\n",
       "3   4                      ASUNCION\n",
       "4   5                          Alec"
      ]
     },
     "execution_count": 7,
     "metadata": {},
     "output_type": "execute_result"
    }
   ],
   "source": [
    "person_table.head()"
   ]
  },
  {
   "cell_type": "code",
   "execution_count": 8,
   "metadata": {
    "collapsed": false
   },
   "outputs": [
    {
     "data": {
      "text/html": [
       "<div>\n",
       "<table border=\"1\" class=\"dataframe\">\n",
       "  <thead>\n",
       "    <tr style=\"text-align: right;\">\n",
       "      <th></th>\n",
       "      <th>Id</th>\n",
       "      <th>Alias</th>\n",
       "      <th>PersonId</th>\n",
       "    </tr>\n",
       "  </thead>\n",
       "  <tbody>\n",
       "    <tr>\n",
       "      <th>0</th>\n",
       "      <td>1</td>\n",
       "      <td>111th congress</td>\n",
       "      <td>1</td>\n",
       "    </tr>\n",
       "    <tr>\n",
       "      <th>1</th>\n",
       "      <td>2</td>\n",
       "      <td>agna usemb kabul afghanistan</td>\n",
       "      <td>2</td>\n",
       "    </tr>\n",
       "    <tr>\n",
       "      <th>2</th>\n",
       "      <td>3</td>\n",
       "      <td>ap</td>\n",
       "      <td>3</td>\n",
       "    </tr>\n",
       "    <tr>\n",
       "      <th>3</th>\n",
       "      <td>4</td>\n",
       "      <td>asuncion</td>\n",
       "      <td>4</td>\n",
       "    </tr>\n",
       "    <tr>\n",
       "      <th>4</th>\n",
       "      <td>5</td>\n",
       "      <td>alec</td>\n",
       "      <td>5</td>\n",
       "    </tr>\n",
       "  </tbody>\n",
       "</table>\n",
       "</div>"
      ],
      "text/plain": [
       "   Id                         Alias  PersonId\n",
       "0   1                111th congress         1\n",
       "1   2  agna usemb kabul afghanistan         2\n",
       "2   3                            ap         3\n",
       "3   4                      asuncion         4\n",
       "4   5                          alec         5"
      ]
     },
     "execution_count": 8,
     "metadata": {},
     "output_type": "execute_result"
    }
   ],
   "source": [
    "alias_table.head()"
   ]
  },
  {
   "cell_type": "code",
   "execution_count": 9,
   "metadata": {
    "collapsed": false
   },
   "outputs": [
    {
     "data": {
      "text/html": [
       "<div>\n",
       "<table border=\"1\" class=\"dataframe\">\n",
       "  <thead>\n",
       "    <tr style=\"text-align: right;\">\n",
       "      <th></th>\n",
       "      <th>Id</th>\n",
       "      <th>EmailId</th>\n",
       "      <th>PersonId</th>\n",
       "    </tr>\n",
       "  </thead>\n",
       "  <tbody>\n",
       "    <tr>\n",
       "      <th>0</th>\n",
       "      <td>1</td>\n",
       "      <td>1</td>\n",
       "      <td>80</td>\n",
       "    </tr>\n",
       "    <tr>\n",
       "      <th>1</th>\n",
       "      <td>2</td>\n",
       "      <td>2</td>\n",
       "      <td>80</td>\n",
       "    </tr>\n",
       "    <tr>\n",
       "      <th>2</th>\n",
       "      <td>3</td>\n",
       "      <td>3</td>\n",
       "      <td>228</td>\n",
       "    </tr>\n",
       "    <tr>\n",
       "      <th>3</th>\n",
       "      <td>4</td>\n",
       "      <td>3</td>\n",
       "      <td>80</td>\n",
       "    </tr>\n",
       "    <tr>\n",
       "      <th>4</th>\n",
       "      <td>5</td>\n",
       "      <td>4</td>\n",
       "      <td>80</td>\n",
       "    </tr>\n",
       "  </tbody>\n",
       "</table>\n",
       "</div>"
      ],
      "text/plain": [
       "   Id  EmailId  PersonId\n",
       "0   1        1        80\n",
       "1   2        2        80\n",
       "2   3        3       228\n",
       "3   4        3        80\n",
       "4   5        4        80"
      ]
     },
     "execution_count": 9,
     "metadata": {},
     "output_type": "execute_result"
    }
   ],
   "source": [
    "email_rec_table.head()"
   ]
  },
  {
   "cell_type": "code",
   "execution_count": 10,
   "metadata": {
    "collapsed": false
   },
   "outputs": [
    {
     "name": "stdout",
     "output_type": "stream",
     "text": [
      "908\n",
      "513\n",
      "850\n",
      "9306\n"
     ]
    }
   ],
   "source": [
    "print len(emails_table)\n",
    "print len(person_table)\n",
    "print len(alias_table)\n",
    "print len(email_rec_table)"
   ]
  },
  {
   "cell_type": "code",
   "execution_count": 11,
   "metadata": {
    "collapsed": false
   },
   "outputs": [],
   "source": [
    "emails_table['doc'] = emails_table[\"ExtractedSubject\"] + \" \" + emails_table[\"ExtractedBodyText\"]"
   ]
  },
  {
   "cell_type": "code",
   "execution_count": 12,
   "metadata": {
    "collapsed": false
   },
   "outputs": [],
   "source": [
    "def clean_text(text):\n",
    "    \n",
    "    # Remove any beginning or ending whitespace\n",
    "    text.strip()\n",
    "    # Combine conjunctions\n",
    "    text = re.sub(r\"'\", \"\", text)\n",
    "    # Replace punctuation with space\n",
    "    text = text.translate(string.maketrans(\"\",\"\"), string.punctuation)\n",
    "    # Replace all control characters\n",
    "    text = ''.join(char for char in text if isprint(char))\n",
    "    # Remove Digits\n",
    "    text = re.sub(r\"[0-9]\", \" \", text)\n",
    "    \n",
    "    \n",
    "    text = text.lower()\n",
    "    \n",
    "    text_list = [token for token in text.split() if token not in stop_words and len(token) > 1]\n",
    "    \n",
    "    return text_list"
   ]
  },
  {
   "cell_type": "code",
   "execution_count": 13,
   "metadata": {
    "collapsed": false
   },
   "outputs": [],
   "source": [
    "emails_table['token_list'] = emails_table['doc'].apply(lambda s: clean_text(s))"
   ]
  },
  {
   "cell_type": "code",
   "execution_count": 14,
   "metadata": {
    "collapsed": false
   },
   "outputs": [],
   "source": [
    "dictionary = gensim.corpora.Dictionary(list(emails_table['token_list']))"
   ]
  },
  {
   "cell_type": "code",
   "execution_count": 15,
   "metadata": {
    "collapsed": false
   },
   "outputs": [
    {
     "name": "stdout",
     "output_type": "stream",
     "text": [
      "908\n",
      "10321\n",
      "9549\n"
     ]
    }
   ],
   "source": [
    "print dictionary.num_docs\n",
    "print dictionary.num_pos\n",
    "print dictionary.num_nnz"
   ]
  },
  {
   "cell_type": "code",
   "execution_count": 16,
   "metadata": {
    "collapsed": false
   },
   "outputs": [],
   "source": [
    "corpus = [dictionary.doc2bow(text) for text in emails_table['token_list']]"
   ]
  },
  {
   "cell_type": "code",
   "execution_count": 17,
   "metadata": {
    "collapsed": true
   },
   "outputs": [],
   "source": [
    "lda = gensim.models.ldamodel.LdaModel(corpus=corpus, id2word=dictionary, num_topics=20)"
   ]
  },
  {
   "cell_type": "code",
   "execution_count": 18,
   "metadata": {
    "collapsed": false
   },
   "outputs": [
    {
     "name": "stdout",
     "output_type": "stream",
     "text": [
      "(0, u'0.015*call + 0.012*pls + 0.008*talk + 0.008*mtg + 0.005*print + 0.005*conference + 0.005*meeting + 0.005*am + 0.005*hrc + 0.005*report')\n",
      "\n",
      "(1, u'0.019*call + 0.011*time + 0.009*office + 0.008*list + 0.006*am + 0.006*dan + 0.006*ok + 0.006*speak + 0.006*pm + 0.005*care')\n",
      "\n",
      "(2, u'0.023*call + 0.010*thx + 0.009*cheryl + 0.008*draft + 0.008*schedule + 0.007*pis + 0.006*friday + 0.006*tys + 0.006*calls + 0.006*send')\n",
      "\n",
      "(3, u'0.021*clips + 0.020*press + 0.019*call + 0.019*doc + 0.017*dialogue + 0.016*strategic + 0.007*thx + 0.006*im + 0.006*help + 0.005*tomorrow')\n",
      "\n",
      "(4, u'0.007*update + 0.006*tomorrow + 0.006*agree + 0.005*letter + 0.005*idea + 0.005*asap + 0.005*scheduled + 0.005*thats + 0.004*issue + 0.004*dc')\n",
      "\n",
      "(5, u'0.020*call + 0.010*tomorrow + 0.008*list + 0.008*schedule + 0.007*ok + 0.006*pls + 0.006*send + 0.006*statement + 0.005*ideas + 0.005*close')\n",
      "\n",
      "(6, u'0.020*schedule + 0.013*call + 0.010*im + 0.010*clips + 0.009*lona + 0.009*press + 0.008*hope + 0.008*strategic + 0.008*dialogue + 0.008*doc')\n",
      "\n",
      "(7, u'0.019*call + 0.011*discuss + 0.009*thx + 0.009*ok + 0.008*fyi + 0.007*list + 0.007*pls + 0.007*revised + 0.006*mtg + 0.006*send')\n",
      "\n",
      "(8, u'0.034*call + 0.013*speech + 0.011*fyi + 0.005*message + 0.005*statement + 0.005*list + 0.005*letter + 0.005*issue + 0.005*pls + 0.005*sheet')\n",
      "\n",
      "(9, u'0.011*fyi + 0.006*campaign + 0.006*public + 0.005*thank + 0.005*im + 0.005*team + 0.004*call + 0.004*ok + 0.004*keith + 0.004*tony')\n",
      "\n",
      "(10, u'0.032*call + 0.015*thx + 0.010*haiti + 0.009*told + 0.007*pls + 0.006*ashton + 0.006*draft + 0.006*im + 0.005*monday + 0.005*pm')\n",
      "\n",
      "(11, u'0.018*call + 0.011*im + 0.010*am + 0.009*help + 0.007*ok + 0.007*huma + 0.005*tomorrow + 0.005*send + 0.005*funeral + 0.005*calling')\n",
      "\n",
      "(12, u'0.014*call + 0.012*talk + 0.011*fyi + 0.010*list + 0.010*speech + 0.008*travel + 0.006*schedule + 0.005*ok + 0.005*th + 0.005*thx')\n",
      "\n",
      "(13, u'0.016*email + 0.011*pls + 0.010*call + 0.010*im + 0.008*office + 0.007*time + 0.006*table + 0.006*tomorrow + 0.006*secretarys + 0.005*friday')\n",
      "\n",
      "(14, u'0.012*speech + 0.009*call + 0.009*print + 0.008*pm + 0.007*tomorrow + 0.006*fyi + 0.006*pls + 0.006*haiti + 0.006*am + 0.005*meeting')\n",
      "\n",
      "(15, u'0.011*am + 0.010*call + 0.008*time + 0.008*update + 0.008*draft + 0.007*talk + 0.007*send + 0.007*ok + 0.006*im + 0.006*thx')\n",
      "\n",
      "(16, u'0.022*am + 0.012*pm + 0.011*time + 0.011*office + 0.009*call + 0.009*speech + 0.008*draft + 0.007*department + 0.007*pls + 0.005*private')\n",
      "\n",
      "(17, u'0.010*pm + 0.009*am + 0.008*call + 0.007*schedule + 0.006*message + 0.006*funeral + 0.006*yes + 0.006*africa + 0.005*agree + 0.004*talk')\n",
      "\n",
      "(18, u'0.010*thanks + 0.007*speech + 0.006*call + 0.005*press + 0.005*doc + 0.005*pls + 0.004*strategic + 0.004*public + 0.004*confirmed + 0.004*fyi')\n",
      "\n",
      "(19, u'0.014*call + 0.012*am + 0.007*draft + 0.007*im + 0.006*time + 0.005*hrc + 0.005*schedule + 0.005*speech + 0.005*list + 0.005*tomorrow')\n",
      "\n"
     ]
    }
   ],
   "source": [
    "for topic in lda.print_topics(20):\n",
    "    print topic\n",
    "    print"
   ]
  },
  {
   "cell_type": "code",
   "execution_count": 19,
   "metadata": {
    "collapsed": true
   },
   "outputs": [],
   "source": [
    "hdp = gensim.models.hdpmodel.HdpModel(corpus=corpus, id2word=dictionary)"
   ]
  },
  {
   "cell_type": "code",
   "execution_count": 20,
   "metadata": {
    "collapsed": false
   },
   "outputs": [
    {
     "name": "stdout",
     "output_type": "stream",
     "text": [
      "topic 0: 0.003*youand + 0.002*lady + 0.002*carols + 0.002*elsewhere + 0.002*lanka + 0.002*proposed + 0.002*colombian + 0.002*renovate + 0.002*tomorrowcdm + 0.002*outsidehow + 0.002*valmoros + 0.001*weekoriginal + 0.001*collaborate + 0.001*additional + 0.001*changes + 0.001*soft + 0.001*waiver + 0.001*introduction + 0.001*conf + 0.001*alt\n",
      "\n",
      "topic 1: 0.002*fr + 0.002*related + 0.002*representative + 0.002*emazils + 0.002*commdate + 0.002*representation + 0.002*spoke + 0.002*moved + 0.002*likethat + 0.002*butrather + 0.002*pm + 0.001*incredibly + 0.001*president + 0.001*am + 0.001*fsi + 0.001*anytime + 0.001*mosa + 0.001*staffed + 0.001*withus + 0.001*capacity\n",
      "\n",
      "topic 2: 0.003*press + 0.003*doc + 0.003*clips + 0.003*strategic + 0.002*divoire + 0.002*dialogue + 0.002*march + 0.002*pelosi + 0.002*influence + 0.002*flexibility + 0.001*outstanding + 0.001*population + 0.001*effortsover + 0.001*yetor + 0.001*comingmonday + 0.001*molho + 0.001*played + 0.001*tech + 0.001*abedinalso + 0.001*prove\n",
      "\n",
      "topic 3: 0.002*historic + 0.002*due + 0.002*winterhof + 0.001*threat + 0.001*greet + 0.001*abuse + 0.001*creative + 0.001*govt + 0.001*toaddressing + 0.001*flagother + 0.001*gordon + 0.001*colombian + 0.001*cheat + 0.001*people + 0.001*offalbrightlavrovspindeleggerclark + 0.001*obama + 0.001*caitlin + 0.001*emails + 0.001*return + 0.001*robinson\n",
      "\n",
      "topic 4: 0.003*friday + 0.002*webb + 0.002*walter + 0.002*lifting + 0.002*requests + 0.002*africa + 0.002*checking + 0.002*sebeliused + 0.001*froman + 0.001*appreciate + 0.001*xmas + 0.001*abroad + 0.001*rudman + 0.001*slaves + 0.001*bahamasmrs + 0.001*hrcits + 0.001*thursday + 0.001*cover + 0.001*tom + 0.001*willing\n",
      "\n",
      "topic 5: 0.002*bilateral + 0.002*unicef + 0.002*turkeyarmenia + 0.002*aimed + 0.002*tech + 0.002*tripplanned + 0.002*urgency + 0.002*edinburgh + 0.002*daughter + 0.002*facebook + 0.002*yes + 0.002*comment + 0.002*zelaya + 0.002*franco + 0.001*callthis + 0.001*desperate + 0.001*cleanup + 0.001*randi + 0.001*outsiderstrobe + 0.001*stateusaid\n",
      "\n",
      "topic 6: 0.002*thatid + 0.002*brooks + 0.002*nationslike + 0.002*lona + 0.002*learned + 0.002*completion + 0.002*businessweeks + 0.002*arcticjon + 0.002*scott + 0.002*relief + 0.002*bang + 0.002*culture + 0.001*kurz + 0.001*verstandig + 0.001*hu + 0.001*daughter + 0.001*kyi + 0.001*nite + 0.001*thisand + 0.001*taking\n",
      "\n",
      "topic 7: 0.002*call + 0.002*aid + 0.002*meant + 0.002*trit + 0.002*gliffa + 0.002*minuteswith + 0.002*ambassador + 0.002*amtyped + 0.002*atour + 0.001*pjthanks + 0.001*dalai + 0.001*biden + 0.001*budget + 0.001*gosl + 0.001*feinstein + 0.001*plus + 0.001*iwill + 0.001*discussed + 0.001*government + 0.001*withlong\n",
      "\n",
      "topic 8: 0.002*kurti + 0.002*types + 0.002*ambassador + 0.002*king + 0.002*listbill + 0.002*datewith + 0.002*correspondant + 0.002*golden + 0.002*wedding + 0.002*pena + 0.001*rfk + 0.001*alreay + 0.001*bermudez + 0.001*bildt + 0.001*oureffortswhats + 0.001*dinner + 0.001*wh + 0.001*unless + 0.001*forall + 0.001*strictly\n",
      "\n",
      "topic 9: 0.002*monday + 0.002*travel + 0.002*street + 0.002*wi + 0.002*provides + 0.002*markthnx + 0.002*thursdayafternoon + 0.002*alonzomario + 0.002*east + 0.002*mightliterally + 0.002*tomorrowwe + 0.002*tight + 0.002*scocroft + 0.001*sidedoor + 0.001*startegy + 0.001*voicesaward + 0.001*arzojulz + 0.001*nye + 0.001*internet + 0.001*instead\n",
      "\n",
      "topic 10: 0.003*editorial + 0.003*head + 0.002*romanothanks + 0.002*types + 0.002*spacebetween + 0.002*plan + 0.002*saturday + 0.002*mymeetings + 0.002*oil + 0.002*refugees + 0.002*wise + 0.002*dated + 0.002*outlets + 0.002*secretaryid + 0.002*iwouldnt + 0.001*bowbestcdm + 0.001*sidedoor + 0.001*allso + 0.001*monica + 0.001*covered\n",
      "\n",
      "topic 11: 0.002*involved + 0.002*corporationsngos + 0.002*name + 0.002*detailed + 0.002*sheets + 0.002*youim + 0.002*afpak + 0.002*rolodex + 0.001*description + 0.001*talked + 0.001*regs + 0.001*forgetting + 0.001*webb + 0.001*ken + 0.001*wherever + 0.001*timesecretarys + 0.001*dep + 0.001*hercdm + 0.001*gladly + 0.001*sort\n",
      "\n",
      "topic 12: 0.002*polar + 0.002*products + 0.002*oureffortswhats + 0.002*treat + 0.002*unstinting + 0.002*eric + 0.002*monica + 0.002*richthanks + 0.002*creative + 0.002*message + 0.002*crisis + 0.001*live + 0.001*woise + 0.001*rice + 0.001*cancelled + 0.001*wonderful + 0.001*story + 0.001*mondays + 0.001*maggiei + 0.001*institutedocmegan\n",
      "\n",
      "topic 13: 0.002*smile + 0.002*bounced + 0.002*thank + 0.002*prove + 0.002*laws + 0.002*office + 0.002*am + 0.001*googlers + 0.001*mdtfdiscussed + 0.001*western + 0.001*excitingto + 0.001*afi + 0.001*questionwhat + 0.001*fox + 0.001*nowcdm + 0.001*starting + 0.001*objections + 0.001*forwardlet + 0.001*moving + 0.001*ngos\n",
      "\n",
      "topic 14: 0.002*schedule + 0.002*dcwjc + 0.002*mtgs + 0.002*word + 0.002*mara + 0.002*taking + 0.002*terrific + 0.002*concept + 0.002*pa + 0.001*hungry + 0.001*holder + 0.001*todecide + 0.001*missed + 0.001*owens + 0.001*democracy + 0.001*nightplus + 0.001*death + 0.001*ccd + 0.001*revise + 0.001*generalisms\n",
      "\n",
      "topic 15: 0.002*aye + 0.002*route + 0.002*salazarnote + 0.002*wait + 0.002*zelaya + 0.002*mitchell + 0.002*andiii + 0.002*zelayas + 0.002*gephardt + 0.002*bounced + 0.001*ran + 0.001*warmth + 0.001*houseen + 0.001*bildt + 0.001*institution + 0.001*cdm + 0.001*bought + 0.001*mcguinness + 0.001*importance + 0.001*goodwill\n",
      "\n",
      "topic 16: 0.002*nabors + 0.002*mildred + 0.002*appropriating + 0.002*scorecard + 0.002*stop + 0.002*trythe + 0.002*madame + 0.002*eg + 0.002*himsent + 0.002*notdiscuss + 0.001*business + 0.001*arrived + 0.001*vs + 0.001*simply + 0.001*toreprise + 0.001*americanpavilion + 0.001*sland + 0.001*bolts + 0.001*lined + 0.001*aid\n",
      "\n",
      "topic 17: 0.003*card + 0.002*womenre + 0.002*desk + 0.002*shop + 0.002*marmore + 0.002*security + 0.002*rico + 0.002*stronger + 0.002*fishman + 0.002*cleaner + 0.002*feder + 0.001*donenothing + 0.001*boiled + 0.001*contribute + 0.001*agreement + 0.001*uswill + 0.001*approach + 0.001*nairobi + 0.001*planned + 0.001*headlines\n",
      "\n",
      "topic 18: 0.002*eikenberry + 0.002*cosponsor + 0.002*reed + 0.002*calls + 0.002*track + 0.002*fine + 0.002*annemarie + 0.002*power + 0.002*forall + 0.002*sandy + 0.002*abedin + 0.001*closer + 0.001*docfyi + 0.001*threat + 0.001*marker + 0.001*telcon + 0.001*sky + 0.001*pennsylvania + 0.001*williamsbarrett + 0.001*mulette\n",
      "\n",
      "topic 19: 0.003*valmorot + 0.002*ester + 0.002*residencehrc + 0.002*pressoriginal + 0.001*invoking + 0.001*development + 0.001*immediately + 0.001*bothinterview + 0.001*openread + 0.001*isaacson + 0.001*urges + 0.001*passed + 0.001*pogo + 0.001*blog + 0.001*lift + 0.001*gonei + 0.001*relations + 0.001*bics + 0.001*rape + 0.001*momentphilippe\n",
      "\n"
     ]
    }
   ],
   "source": [
    "for topic in hdp.print_topics():\n",
    "    print topic\n",
    "    print"
   ]
  },
  {
   "cell_type": "code",
   "execution_count": null,
   "metadata": {
    "collapsed": true
   },
   "outputs": [],
   "source": []
  }
 ],
 "metadata": {
  "kernelspec": {
   "display_name": "Python 2",
   "language": "python",
   "name": "python2"
  },
  "language_info": {
   "codemirror_mode": {
    "name": "ipython",
    "version": 2
   },
   "file_extension": ".py",
   "mimetype": "text/x-python",
   "name": "python",
   "nbconvert_exporter": "python",
   "pygments_lexer": "ipython2",
   "version": "2.7.11"
  }
 },
 "nbformat": 4,
 "nbformat_minor": 0
}
