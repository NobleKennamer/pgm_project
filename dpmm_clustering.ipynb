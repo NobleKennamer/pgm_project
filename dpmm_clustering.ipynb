{
 "cells": [
  {
   "cell_type": "code",
   "execution_count": 1,
   "metadata": {
    "collapsed": false
   },
   "outputs": [
    {
     "name": "stdout",
     "output_type": "stream",
     "text": [
      "Populating the interactive namespace from numpy and matplotlib\n"
     ]
    }
   ],
   "source": [
    "%pylab inline"
   ]
  },
  {
   "cell_type": "code",
   "execution_count": 2,
   "metadata": {
    "collapsed": true
   },
   "outputs": [],
   "source": [
    "import seaborn as sns\n",
    "from collections import defaultdict\n",
    "from scipy.stats import multivariate_normal"
   ]
  },
  {
   "cell_type": "code",
   "execution_count": 3,
   "metadata": {
    "collapsed": false
   },
   "outputs": [],
   "source": [
    "class DPMM:\n",
    "    def __init__(self, alpha, prior_mu, prior_cov, max_iter, num_c):\n",
    "        self.alpha = alpha\n",
    "        self.prior_mu = prior_mu\n",
    "        self.prior_cov = prior_cov\n",
    "        self.max_iter = max_iter\n",
    "        self.num_c = num_c\n",
    "        self.cluster_assignments = defaultdict(int)\n",
    "        self.clusters = defaultdict(list)\n",
    "    \n",
    "    def fit(self, data):\n",
    "        import warnings\n",
    "        warnings.simplefilter(\"error\")\n",
    "        \n",
    "        # Randomly Initialize each point as its own cluster\n",
    "        n = data.shape[0]\n",
    "        random_assignments = np.random.randint(0, self.num_c, data.shape[0])\n",
    "        for i, assinment in enumerate(random_assignments):\n",
    "            self.cluster_assignments[i] = assinment\n",
    "            self.clusters[assinment].append(i)\n",
    "        \n",
    "        for i in xrange(self.max_iter):\n",
    "            print i\n",
    "            if i % 100 == 0:\n",
    "                #self.plot_clusters(data)\n",
    "                pass\n",
    "                \n",
    "            for point_num, point in enumerate(data):\n",
    "                probabilities = []\n",
    "                cluster_assignment = self.cluster_assignments[point_num]\n",
    "                cluster_list = self.clusters[cluster_assignment]\n",
    "                del cluster_list[cluster_list.index(point_num)]\n",
    "                \n",
    "                self.clusters[cluster_assignment] = cluster_list\n",
    "                \n",
    "                probabilities = []\n",
    "                for cluster in xrange(len(self.clusters)):\n",
    "                    cluster_list = self.clusters[cluster]\n",
    "                    num_in_cluster = len(cluster_list)\n",
    "                    if num_in_cluster == 0:\n",
    "                        probabilities.append(0)\n",
    "                        continue\n",
    "                        \n",
    "                    p_z = (1.0 * num_in_cluster) / (self.alpha + n - 1.0)\n",
    "                \n",
    "                    mu = np.mean(data[cluster_list], axis=0)\n",
    "                    if num_in_cluster == 1:\n",
    "                        cov = np.eye(2)\n",
    "                    else:\n",
    "                        cov = np.cov(data[cluster_list].T)\n",
    "                    \n",
    "                    try:\n",
    "                        p_x = multivariate_normal(mu, cov).pdf(point)\n",
    "                    except:\n",
    "                        #print 'IN'\n",
    "                        p_x = multivariate_normal(mu, np.eye(2)).pdf(point)\n",
    "                    \n",
    "                    probabilities.append(p_z * p_x)\n",
    "                \n",
    "                # probability of new cluster\n",
    "                p_z = (self.alpha / (self.alpha + n - 1.))\n",
    "                p_x = multivariate_normal(self.prior_mu, self.prior_cov).pdf(point)\n",
    "                probabilities.append(p_z * p_x)\n",
    "                \n",
    "                probabilities = np.array(probabilities)\n",
    "                #print probabilities\n",
    "                probabilities /= probabilities.sum()\n",
    "                #print probabilities\n",
    "                cluster_assignment = np.argmax(np.random.multinomial(1, probabilities))\n",
    "                \n",
    "                self.clusters[cluster_assignment].append(point_num)\n",
    "                self.cluster_assignments[point_num] = cluster_assignment\n",
    "                \n",
    "    \n",
    "    def plot_clusters(self, data):\n",
    "            colors = plt.cm.rainbow(np.linspace(0, 1, len(dpmm_model.clusters)))\n",
    "            for color, cluster in zip(colors, self.clusters):\n",
    "                cluster_list = dpmm_model.clusters[cluster]\n",
    "                plt.scatter(data[cluster_list, 0], data[cluster_list, 1], c=color)\n",
    "            \n",
    "            plt.show()\n",
    "                "
   ]
  },
  {
   "cell_type": "code",
   "execution_count": 4,
   "metadata": {
    "collapsed": false
   },
   "outputs": [],
   "source": [
    "n = 100\n",
    "num_clusters = 2\n",
    "prior_mu = np.zeros(2)\n",
    "prior_cov  = 15.*np.eye(2)"
   ]
  },
  {
   "cell_type": "code",
   "execution_count": 5,
   "metadata": {
    "collapsed": false
   },
   "outputs": [],
   "source": [
    "cluster_centers = np.random.multivariate_normal(prior_mu, prior_cov, num_clusters)"
   ]
  },
  {
   "cell_type": "code",
   "execution_count": 6,
   "metadata": {
    "collapsed": false
   },
   "outputs": [
    {
     "name": "stdout",
     "output_type": "stream",
     "text": [
      "[[-3.97518985 -0.40542362]\n",
      " [-3.00464821  8.1914871 ]]\n"
     ]
    },
    {
     "data": {
      "text/plain": [
       "<matplotlib.collections.PathCollection at 0x119b34810>"
      ]
     },
     "execution_count": 6,
     "metadata": {},
     "output_type": "execute_result"
    },
    {
     "data": {
      "image/png": "[encoded data removed]",
      "text/plain": [
       "<matplotlib.figure.Figure at 0x10758e510>"
      ]
     },
     "metadata": {},
     "output_type": "display_data"
    }
   ],
   "source": [
    "print cluster_centers\n",
    "\n",
    "data = np.random.multivariate_normal(cluster_centers[0], np.eye(2), n)\n",
    "\n",
    "for cluster in cluster_centers[1:]:\n",
    "    new_data = np.random.multivariate_normal(cluster, np.eye(2), n)\n",
    "    data = np.concatenate((data, new_data))\n",
    "\n",
    "np.random.shuffle(data)\n",
    "plt.scatter(data[:, 0], data[:, 1])"
   ]
  },
  {
   "cell_type": "code",
   "execution_count": 7,
   "metadata": {
    "collapsed": false
   },
   "outputs": [],
   "source": [
    "dpmm_model = DPMM(5.0, prior_mu, prior_cov, 100, 2)"
   ]
  },
  {
   "cell_type": "code",
   "execution_count": 8,
   "metadata": {
    "collapsed": false,
    "scrolled": false
   },
   "outputs": [
    {
     "name": "stdout",
     "output_type": "stream",
     "text": [
      "0\n",
      "1\n",
      "2\n",
      "3\n",
      "4\n",
      "5\n",
      "6\n",
      "7\n",
      "8\n",
      "9\n",
      "10\n",
      "11\n",
      "12\n",
      "13\n",
      "14\n",
      "15\n",
      "16\n",
      "17\n",
      "18\n",
      "19\n",
      "20\n",
      "21\n",
      "22\n",
      "23\n",
      "24\n",
      "25\n",
      "26\n",
      "27\n",
      "28\n",
      "29\n",
      "30\n",
      "31\n",
      "32\n",
      "33\n",
      "34\n",
      "35\n",
      "36\n",
      "37\n",
      "38\n",
      "39\n",
      "40\n",
      "41\n",
      "42\n",
      "43\n",
      "44\n",
      "45\n",
      "46\n",
      "47\n",
      "48\n",
      "49\n",
      "50\n",
      "51\n",
      "52\n",
      "53\n",
      "54\n",
      "55\n",
      "56\n",
      "57\n",
      "58\n",
      "59\n",
      "60\n",
      "61\n",
      "62\n",
      "63\n",
      "64\n",
      "65\n",
      "66\n",
      "67\n",
      "68\n",
      "69\n",
      "70\n",
      "71\n",
      "72\n",
      "73\n",
      "74\n",
      "75\n",
      "76\n",
      "77\n",
      "78\n",
      "79\n",
      "80\n",
      "81\n",
      "82\n",
      "83\n",
      "84\n",
      "85\n",
      "86\n",
      "87\n",
      "88\n",
      "89\n",
      "90\n",
      "91\n",
      "92\n",
      "93\n",
      "94\n",
      "95\n",
      "96\n",
      "97\n",
      "98\n",
      "99\n"
     ]
    }
   ],
   "source": [
    "dpmm_model.fit(data)"
   ]
  },
  {
   "cell_type": "code",
   "execution_count": 9,
   "metadata": {
    "collapsed": false
   },
   "outputs": [
    {
     "data": {
      "image/png": "[encoded data removed]",
      "text/plain": [
       "<matplotlib.figure.Figure at 0x11735f7d0>"
      ]
     },
     "metadata": {},
     "output_type": "display_data"
    }
   ],
   "source": [
    "num_found_clusters = 0 \n",
    "for cluster, c_l in dpmm_model.clusters.items():\n",
    "    if len(c_l) > 0:\n",
    "        num_found_clusters += 1\n",
    "\n",
    "colors = plt.cm.rainbow(np.linspace(0, 1, num_found_clusters))\n",
    "\n",
    "i = 0\n",
    "for cluster, c_l in dpmm_model.clusters.items():\n",
    "    if len(c_l) > 0:\n",
    "        plt.scatter(data[c_l, 0], data[c_l, 1], c=colors[i])\n",
    "        i += 1\n",
    "   "
   ]
  },
  {
   "cell_type": "code",
   "execution_count": 10,
   "metadata": {
    "collapsed": true
   },
   "outputs": [],
   "source": [
    "n = 100\n",
    "num_clusters = 4\n",
    "prior_mu = np.zeros(2)\n",
    "prior_cov  = 15.*np.eye(2)"
   ]
  },
  {
   "cell_type": "code",
   "execution_count": 11,
   "metadata": {
    "collapsed": false
   },
   "outputs": [
    {
     "name": "stdout",
     "output_type": "stream",
     "text": [
      "[[ 4.26016721 -0.66183817]\n",
      " [ 8.64702036 -1.39432547]\n",
      " [-2.10248275  4.24556442]\n",
      " [-0.59633526 -1.24792706]]\n"
     ]
    },
    {
     "data": {
      "text/plain": [
       "<matplotlib.collections.PathCollection at 0x119f8d850>"
      ]
     },
     "execution_count": 11,
     "metadata": {},
     "output_type": "execute_result"
    },
    {
     "data": {
      "image/png": "[encoded data removed]",
      "text/plain": [
       "<matplotlib.figure.Figure at 0x117379050>"
      ]
     },
     "metadata": {},
     "output_type": "display_data"
    }
   ],
   "source": [
    "cluster_centers = np.random.multivariate_normal(prior_mu, prior_cov, num_clusters)\n",
    "print cluster_centers\n",
    "\n",
    "data = np.random.multivariate_normal(cluster_centers[0], np.eye(2), n)\n",
    "\n",
    "for cluster in cluster_centers[1:]:\n",
    "    new_data = np.random.multivariate_normal(cluster, np.eye(2), n)\n",
    "    data = np.concatenate((data, new_data))\n",
    "\n",
    "np.random.shuffle(data)\n",
    "plt.scatter(data[:, 0], data[:, 1])"
   ]
  },
  {
   "cell_type": "code",
   "execution_count": 12,
   "metadata": {
    "collapsed": true
   },
   "outputs": [],
   "source": [
    "dpmm_model = DPMM(5.0, prior_mu, prior_cov, 100, 2)"
   ]
  },
  {
   "cell_type": "code",
   "execution_count": 13,
   "metadata": {
    "collapsed": false
   },
   "outputs": [
    {
     "name": "stdout",
     "output_type": "stream",
     "text": [
      "0\n",
      "1\n",
      "2\n",
      "3\n",
      "4\n",
      "5\n",
      "6\n",
      "7\n",
      "8\n",
      "9\n",
      "10\n",
      "11\n",
      "12\n",
      "13\n",
      "14\n",
      "15\n",
      "16\n",
      "17\n",
      "18\n",
      "19\n",
      "20\n",
      "21\n",
      "22\n",
      "23\n",
      "24\n",
      "25\n",
      "26\n",
      "27\n",
      "28\n",
      "29\n",
      "30\n",
      "31\n",
      "32\n",
      "33\n",
      "34\n",
      "35\n",
      "36\n",
      "37\n",
      "38\n",
      "39\n",
      "40\n",
      "41\n",
      "42\n",
      "43\n",
      "44\n",
      "45\n",
      "46\n",
      "47\n",
      "48\n",
      "49\n",
      "50\n",
      "51\n",
      "52\n",
      "53\n",
      "54\n",
      "55\n",
      "56\n",
      "57\n",
      "58\n",
      "59\n",
      "60\n",
      "61\n",
      "62\n",
      "63\n",
      "64\n",
      "65\n",
      "66\n",
      "67\n",
      "68\n",
      "69\n",
      "70\n",
      "71\n",
      "72\n",
      "73\n",
      "74\n",
      "75\n",
      "76\n",
      "77\n",
      "78\n",
      "79\n",
      "80\n",
      "81\n",
      "82\n",
      "83\n",
      "84\n",
      "85\n",
      "86\n",
      "87\n",
      "88\n",
      "89\n",
      "90\n",
      "91\n",
      "92\n",
      "93\n",
      "94\n",
      "95\n",
      "96\n",
      "97\n",
      "98\n",
      "99\n"
     ]
    }
   ],
   "source": [
    "dpmm_model.fit(data)"
   ]
  },
  {
   "cell_type": "code",
   "execution_count": 14,
   "metadata": {
    "collapsed": false
   },
   "outputs": [
    {
     "data": {
      "image/png": "[encoded data removed]",
      "text/plain": [
       "<matplotlib.figure.Figure at 0x119ed9850>"
      ]
     },
     "metadata": {},
     "output_type": "display_data"
    }
   ],
   "source": [
    "num_found_clusters = 0 \n",
    "for cluster, c_l in dpmm_model.clusters.items():\n",
    "    if len(c_l) > 0:\n",
    "        num_found_clusters += 1\n",
    "\n",
    "colors = plt.cm.rainbow(np.linspace(0, 1, num_found_clusters))\n",
    "\n",
    "i = 0\n",
    "for cluster, c_l in dpmm_model.clusters.items():\n",
    "    if len(c_l) > 0:\n",
    "        plt.scatter(data[c_l, 0], data[c_l, 1], c=colors[i])\n",
    "        i += 1\n",
    "   "
   ]
  },
  {
   "cell_type": "code",
   "execution_count": null,
   "metadata": {
    "collapsed": true
   },
   "outputs": [],
   "source": []
  }
 ],
 "metadata": {
  "kernelspec": {
   "display_name": "Python 2",
   "language": "python",
   "name": "python2"
  },
  "language_info": {
   "codemirror_mode": {
    "name": "ipython",
    "version": 2
   },
   "file_extension": ".py",
   "mimetype": "text/x-python",
   "name": "python",
   "nbconvert_exporter": "python",
   "pygments_lexer": "ipython2",
   "version": "2.7.11"
  }
 },
 "nbformat": 4,
 "nbformat_minor": 0
}
