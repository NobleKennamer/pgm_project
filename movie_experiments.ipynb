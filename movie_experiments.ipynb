{
 "cells": [
  {
   "cell_type": "code",
   "execution_count": 1,
   "metadata": {
    "collapsed": false
   },
   "outputs": [
    {
     "name": "stdout",
     "output_type": "stream",
     "text": [
      "Populating the interactive namespace from numpy and matplotlib\n"
     ]
    }
   ],
   "source": [
    "%pylab inline"
   ]
  },
  {
   "cell_type": "code",
   "execution_count": 2,
   "metadata": {
    "collapsed": true
   },
   "outputs": [],
   "source": [
    "import pandas as pd\n",
    "import seaborn as sns\n",
    "from bs4 import BeautifulSoup\n",
    "import re\n",
    "import nltk\n",
    "from nltk.corpus import stopwords\n",
    "from collections import defaultdict\n",
    "import gensim"
   ]
  },
  {
   "cell_type": "code",
   "execution_count": 3,
   "metadata": {
    "collapsed": true
   },
   "outputs": [],
   "source": [
    "train_path = \"data/movie/labeledTrainData.tsv\""
   ]
  },
  {
   "cell_type": "code",
   "execution_count": 4,
   "metadata": {
    "collapsed": false
   },
   "outputs": [],
   "source": [
    "train = pd.read_csv(train_path, header=0, delimiter=\"\\t\", quoting=3)"
   ]
  },
  {
   "cell_type": "code",
   "execution_count": 5,
   "metadata": {
    "collapsed": false
   },
   "outputs": [],
   "source": [
    "def review_to_words(raw_review):\n",
    "    #Remove HTML\n",
    "    review_text = BeautifulSoup(raw_review).get_text()\n",
    "    \n",
    "    #Remove non-letters\n",
    "    letters_only = re.sub(\"[^a-zA-Z]\", \" \", review_text)\n",
    "    \n",
    "    # Convert to lower case, split into individual words\n",
    "    words = letters_only.lower().split()\n",
    "    \n",
    "    #Remove stopwords\n",
    "    stops = set(stopwords.words(\"english\"))\n",
    "    meaningful_words = [w for w in words if w not in stops]\n",
    "    \n",
    "    #Join the words back into one string sperated by a space\n",
    "    return (\" \".join(meaningful_words))"
   ]
  },
  {
   "cell_type": "code",
   "execution_count": 6,
   "metadata": {
    "collapsed": false
   },
   "outputs": [
    {
     "name": "stderr",
     "output_type": "stream",
     "text": [
      "/Users/nobleWkennamer/anaconda/lib/python2.7/site-packages/bs4/__init__.py:166: UserWarning: No parser was explicitly specified, so I'm using the best available HTML parser for this system (\"lxml\"). This usually isn't a problem, but if you run this code on another system, or in a different virtual environment, it may use a different parser and behave differently.\n",
      "\n",
      "To get rid of this warning, change this:\n",
      "\n",
      " BeautifulSoup([your markup])\n",
      "\n",
      "to this:\n",
      "\n",
      " BeautifulSoup([your markup], \"lxml\")\n",
      "\n",
      "  markup_type=markup_type))\n"
     ]
    }
   ],
   "source": [
    "train[\"clean_reviews\"] = train[\"review\"].map(review_to_words)"
   ]
  },
  {
   "cell_type": "code",
   "execution_count": 7,
   "metadata": {
    "collapsed": false,
    "scrolled": true
   },
   "outputs": [
    {
     "data": {
      "text/html": [
       "<div>\n",
       "<table border=\"1\" class=\"dataframe\">\n",
       "  <thead>\n",
       "    <tr style=\"text-align: right;\">\n",
       "      <th></th>\n",
       "      <th>id</th>\n",
       "      <th>sentiment</th>\n",
       "      <th>review</th>\n",
       "      <th>clean_reviews</th>\n",
       "    </tr>\n",
       "  </thead>\n",
       "  <tbody>\n",
       "    <tr>\n",
       "      <th>0</th>\n",
       "      <td>\"5814_8\"</td>\n",
       "      <td>1</td>\n",
       "      <td>\"With all this stuff going down at the moment ...</td>\n",
       "      <td>stuff going moment mj ve started listening mus...</td>\n",
       "    </tr>\n",
       "    <tr>\n",
       "      <th>1</th>\n",
       "      <td>\"2381_9\"</td>\n",
       "      <td>1</td>\n",
       "      <td>\"\\\"The Classic War of the Worlds\\\" by Timothy ...</td>\n",
       "      <td>classic war worlds timothy hines entertaining ...</td>\n",
       "    </tr>\n",
       "    <tr>\n",
       "      <th>2</th>\n",
       "      <td>\"7759_3\"</td>\n",
       "      <td>0</td>\n",
       "      <td>\"The film starts with a manager (Nicholas Bell...</td>\n",
       "      <td>film starts manager nicholas bell giving welco...</td>\n",
       "    </tr>\n",
       "    <tr>\n",
       "      <th>3</th>\n",
       "      <td>\"3630_4\"</td>\n",
       "      <td>0</td>\n",
       "      <td>\"It must be assumed that those who praised thi...</td>\n",
       "      <td>must assumed praised film greatest filmed oper...</td>\n",
       "    </tr>\n",
       "    <tr>\n",
       "      <th>4</th>\n",
       "      <td>\"9495_8\"</td>\n",
       "      <td>1</td>\n",
       "      <td>\"Superbly trashy and wondrously unpretentious ...</td>\n",
       "      <td>superbly trashy wondrously unpretentious explo...</td>\n",
       "    </tr>\n",
       "    <tr>\n",
       "      <th>5</th>\n",
       "      <td>\"8196_8\"</td>\n",
       "      <td>1</td>\n",
       "      <td>\"I dont know why people think this is such a b...</td>\n",
       "      <td>dont know people think bad movie got pretty go...</td>\n",
       "    </tr>\n",
       "    <tr>\n",
       "      <th>6</th>\n",
       "      <td>\"7166_2\"</td>\n",
       "      <td>0</td>\n",
       "      <td>\"This movie could have been very good, but com...</td>\n",
       "      <td>movie could good comes way short cheesy specia...</td>\n",
       "    </tr>\n",
       "    <tr>\n",
       "      <th>7</th>\n",
       "      <td>\"10633_1\"</td>\n",
       "      <td>0</td>\n",
       "      <td>\"I watched this video at a friend's house. I'm...</td>\n",
       "      <td>watched video friend house m glad waste money ...</td>\n",
       "    </tr>\n",
       "    <tr>\n",
       "      <th>8</th>\n",
       "      <td>\"319_1\"</td>\n",
       "      <td>0</td>\n",
       "      <td>\"A friend of mine bought this film for £1, and...</td>\n",
       "      <td>friend mine bought film even grossly overprice...</td>\n",
       "    </tr>\n",
       "    <tr>\n",
       "      <th>9</th>\n",
       "      <td>\"8713_10\"</td>\n",
       "      <td>1</td>\n",
       "      <td>\"&lt;br /&gt;&lt;br /&gt;This movie is full of references....</td>\n",
       "      <td>movie full references like mad max ii wild one...</td>\n",
       "    </tr>\n",
       "    <tr>\n",
       "      <th>10</th>\n",
       "      <td>\"2486_3\"</td>\n",
       "      <td>0</td>\n",
       "      <td>\"What happens when an army of wetbacks, towelh...</td>\n",
       "      <td>happens army wetbacks towelheads godless easte...</td>\n",
       "    </tr>\n",
       "    <tr>\n",
       "      <th>11</th>\n",
       "      <td>\"6811_10\"</td>\n",
       "      <td>1</td>\n",
       "      <td>\"Although I generally do not like remakes beli...</td>\n",
       "      <td>although generally like remakes believing rema...</td>\n",
       "    </tr>\n",
       "    <tr>\n",
       "      <th>12</th>\n",
       "      <td>\"11744_9\"</td>\n",
       "      <td>1</td>\n",
       "      <td>\"\\\"Mr. Harvey Lights a Candle\\\" is anchored by...</td>\n",
       "      <td>mr harvey lights candle anchored brilliant per...</td>\n",
       "    </tr>\n",
       "    <tr>\n",
       "      <th>13</th>\n",
       "      <td>\"7369_1\"</td>\n",
       "      <td>0</td>\n",
       "      <td>\"I had a feeling that after \\\"Submerged\\\", thi...</td>\n",
       "      <td>feeling submerged one wouldn better right must...</td>\n",
       "    </tr>\n",
       "    <tr>\n",
       "      <th>14</th>\n",
       "      <td>\"12081_1\"</td>\n",
       "      <td>0</td>\n",
       "      <td>\"note to George Litman, and others: the Myster...</td>\n",
       "      <td>note george litman others mystery science thea...</td>\n",
       "    </tr>\n",
       "    <tr>\n",
       "      <th>15</th>\n",
       "      <td>\"3561_4\"</td>\n",
       "      <td>0</td>\n",
       "      <td>\"Stephen King adaptation (scripted by King him...</td>\n",
       "      <td>stephen king adaptation scripted king young fa...</td>\n",
       "    </tr>\n",
       "    <tr>\n",
       "      <th>16</th>\n",
       "      <td>\"4489_1\"</td>\n",
       "      <td>0</td>\n",
       "      <td>\"`The Matrix' was an exciting summer blockbust...</td>\n",
       "      <td>matrix exciting summer blockbuster visually fa...</td>\n",
       "    </tr>\n",
       "    <tr>\n",
       "      <th>17</th>\n",
       "      <td>\"3951_2\"</td>\n",
       "      <td>0</td>\n",
       "      <td>\"Ulli Lommel's 1980 film 'The Boogey Man' is n...</td>\n",
       "      <td>ulli lommel film boogey man classic average lo...</td>\n",
       "    </tr>\n",
       "    <tr>\n",
       "      <th>18</th>\n",
       "      <td>\"3304_10\"</td>\n",
       "      <td>1</td>\n",
       "      <td>\"This movie is one among the very few Indian m...</td>\n",
       "      <td>movie one among indian movies would never fade...</td>\n",
       "    </tr>\n",
       "    <tr>\n",
       "      <th>19</th>\n",
       "      <td>\"9352_10\"</td>\n",
       "      <td>1</td>\n",
       "      <td>\"Most people, especially young people, may not...</td>\n",
       "      <td>people especially young people may understand ...</td>\n",
       "    </tr>\n",
       "    <tr>\n",
       "      <th>20</th>\n",
       "      <td>\"3374_7\"</td>\n",
       "      <td>1</td>\n",
       "      <td>\"\\\"Soylent Green\\\" is one of the best and most...</td>\n",
       "      <td>soylent green one best disturbing science fict...</td>\n",
       "    </tr>\n",
       "    <tr>\n",
       "      <th>21</th>\n",
       "      <td>\"10782_7\"</td>\n",
       "      <td>1</td>\n",
       "      <td>\"Michael Stearns plays Mike, a sexually frustr...</td>\n",
       "      <td>michael stearns plays mike sexually frustrated...</td>\n",
       "    </tr>\n",
       "    <tr>\n",
       "      <th>22</th>\n",
       "      <td>\"5414_10\"</td>\n",
       "      <td>1</td>\n",
       "      <td>\"This happy-go-luck 1939 military swashbuckler...</td>\n",
       "      <td>happy go luck military swashbuckler based rath...</td>\n",
       "    </tr>\n",
       "    <tr>\n",
       "      <th>23</th>\n",
       "      <td>\"10492_1\"</td>\n",
       "      <td>0</td>\n",
       "      <td>\"I would love to have that two hours of my lif...</td>\n",
       "      <td>would love two hours life back seemed several ...</td>\n",
       "    </tr>\n",
       "    <tr>\n",
       "      <th>24</th>\n",
       "      <td>\"3350_3\"</td>\n",
       "      <td>0</td>\n",
       "      <td>\"The script for this movie was probably found ...</td>\n",
       "      <td>script movie probably found hair ball recently...</td>\n",
       "    </tr>\n",
       "    <tr>\n",
       "      <th>25</th>\n",
       "      <td>\"6581_7\"</td>\n",
       "      <td>1</td>\n",
       "      <td>\"Looking for Quo Vadis at my local video store...</td>\n",
       "      <td>looking quo vadis local video store found vers...</td>\n",
       "    </tr>\n",
       "    <tr>\n",
       "      <th>26</th>\n",
       "      <td>\"2203_3\"</td>\n",
       "      <td>0</td>\n",
       "      <td>\"Note to all mad scientists everywhere: if you...</td>\n",
       "      <td>note mad scientists everywhere re going turn s...</td>\n",
       "    </tr>\n",
       "    <tr>\n",
       "      <th>27</th>\n",
       "      <td>\"689_1\"</td>\n",
       "      <td>0</td>\n",
       "      <td>\"What the ........... is this ? This must, wit...</td>\n",
       "      <td>must without doubt biggest waste film settings...</td>\n",
       "    </tr>\n",
       "    <tr>\n",
       "      <th>28</th>\n",
       "      <td>\"9152_1\"</td>\n",
       "      <td>0</td>\n",
       "      <td>\"Intrigued by the synopsis (every gay video th...</td>\n",
       "      <td>intrigued synopsis every gay video days hunk c...</td>\n",
       "    </tr>\n",
       "    <tr>\n",
       "      <th>29</th>\n",
       "      <td>\"6077_1\"</td>\n",
       "      <td>0</td>\n",
       "      <td>\"Would anyone really watch this RUBBISH if it ...</td>\n",
       "      <td>would anyone really watch rubbish didn contain...</td>\n",
       "    </tr>\n",
       "    <tr>\n",
       "      <th>...</th>\n",
       "      <td>...</td>\n",
       "      <td>...</td>\n",
       "      <td>...</td>\n",
       "      <td>...</td>\n",
       "    </tr>\n",
       "    <tr>\n",
       "      <th>24970</th>\n",
       "      <td>\"9389_7\"</td>\n",
       "      <td>1</td>\n",
       "      <td>\"Red Rock West (1993)&lt;br /&gt;&lt;br /&gt;Nicolas Cage ...</td>\n",
       "      <td>red rock west nicolas cage gets embroiled dead...</td>\n",
       "    </tr>\n",
       "    <tr>\n",
       "      <th>24971</th>\n",
       "      <td>\"9251_9\"</td>\n",
       "      <td>1</td>\n",
       "      <td>\"what can i say?, ms Erika Eleniak is my favor...</td>\n",
       "      <td>say ms erika eleniak favorite blonde girl ever...</td>\n",
       "    </tr>\n",
       "    <tr>\n",
       "      <th>24972</th>\n",
       "      <td>\"1422_10\"</td>\n",
       "      <td>1</td>\n",
       "      <td>\"The spoiler warning is for those people who w...</td>\n",
       "      <td>spoiler warning people want see animals landsc...</td>\n",
       "    </tr>\n",
       "    <tr>\n",
       "      <th>24973</th>\n",
       "      <td>\"7415_2\"</td>\n",
       "      <td>0</td>\n",
       "      <td>\"What do you call a horror story without horro...</td>\n",
       "      <td>call horror story without horror story irritat...</td>\n",
       "    </tr>\n",
       "    <tr>\n",
       "      <th>24974</th>\n",
       "      <td>\"7492_7\"</td>\n",
       "      <td>1</td>\n",
       "      <td>\"Though not a horror film in the traditional s...</td>\n",
       "      <td>though horror film traditional sense creepy li...</td>\n",
       "    </tr>\n",
       "    <tr>\n",
       "      <th>24975</th>\n",
       "      <td>\"7689_10\"</td>\n",
       "      <td>1</td>\n",
       "      <td>\"This was what black society was like before t...</td>\n",
       "      <td>black society like crack epidemics gangsta rap...</td>\n",
       "    </tr>\n",
       "    <tr>\n",
       "      <th>24976</th>\n",
       "      <td>\"12370_4\"</td>\n",
       "      <td>0</td>\n",
       "      <td>\"They probably should have called this movie T...</td>\n",
       "      <td>probably called movie map majority whole stupi...</td>\n",
       "    </tr>\n",
       "    <tr>\n",
       "      <th>24977</th>\n",
       "      <td>\"5625_8\"</td>\n",
       "      <td>1</td>\n",
       "      <td>\"Attractive Marjorie(Farrah Fawcett)lives in f...</td>\n",
       "      <td>attractive marjorie farrah fawcett lives fear ...</td>\n",
       "    </tr>\n",
       "    <tr>\n",
       "      <th>24978</th>\n",
       "      <td>\"9397_9\"</td>\n",
       "      <td>1</td>\n",
       "      <td>\"Vaguely reminiscent of great 1940's westerns,...</td>\n",
       "      <td>vaguely reminiscent great westerns like treasu...</td>\n",
       "    </tr>\n",
       "    <tr>\n",
       "      <th>24979</th>\n",
       "      <td>\"5992_7\"</td>\n",
       "      <td>1</td>\n",
       "      <td>\"I admit I had no idea what to expect before v...</td>\n",
       "      <td>admit idea expect viewing highly stylized piec...</td>\n",
       "    </tr>\n",
       "    <tr>\n",
       "      <th>24980</th>\n",
       "      <td>\"2488_10\"</td>\n",
       "      <td>1</td>\n",
       "      <td>\"To me, the final scene, in which Harris respo...</td>\n",
       "      <td>final scene harris responds press corp worthy ...</td>\n",
       "    </tr>\n",
       "    <tr>\n",
       "      <th>24981</th>\n",
       "      <td>\"9627_10\"</td>\n",
       "      <td>1</td>\n",
       "      <td>\"This is by far the funniest short made by the...</td>\n",
       "      <td>far funniest short made two comic geniuses tim...</td>\n",
       "    </tr>\n",
       "    <tr>\n",
       "      <th>24982</th>\n",
       "      <td>\"3822_2\"</td>\n",
       "      <td>0</td>\n",
       "      <td>\"To be a Buster Keaton fan is to have your hea...</td>\n",
       "      <td>buster keaton fan heart broken regular basis u...</td>\n",
       "    </tr>\n",
       "    <tr>\n",
       "      <th>24983</th>\n",
       "      <td>\"5983_4\"</td>\n",
       "      <td>0</td>\n",
       "      <td>\"I was one of those \\\"few Americans\\\" that gre...</td>\n",
       "      <td>one americans grew gerry andersen marvelous cr...</td>\n",
       "    </tr>\n",
       "    <tr>\n",
       "      <th>24984</th>\n",
       "      <td>\"8021_2\"</td>\n",
       "      <td>0</td>\n",
       "      <td>\"Visually disjointed and full of itself, the d...</td>\n",
       "      <td>visually disjointed full director apparently c...</td>\n",
       "    </tr>\n",
       "    <tr>\n",
       "      <th>24985</th>\n",
       "      <td>\"3471_3\"</td>\n",
       "      <td>0</td>\n",
       "      <td>\"this movie had more holes than a piece of swi...</td>\n",
       "      <td>movie holes piece swiss cheese ben affleck ser...</td>\n",
       "    </tr>\n",
       "    <tr>\n",
       "      <th>24986</th>\n",
       "      <td>\"6034_10\"</td>\n",
       "      <td>1</td>\n",
       "      <td>\"Last November, I had a chance to see this fil...</td>\n",
       "      <td>last november chance see film reno film festiv...</td>\n",
       "    </tr>\n",
       "    <tr>\n",
       "      <th>24987</th>\n",
       "      <td>\"1988_9\"</td>\n",
       "      <td>1</td>\n",
       "      <td>\"First off, I'd like to make a correction on a...</td>\n",
       "      <td>first d like make correction another review fi...</td>\n",
       "    </tr>\n",
       "    <tr>\n",
       "      <th>24988</th>\n",
       "      <td>\"7623_9\"</td>\n",
       "      <td>1</td>\n",
       "      <td>\"While originally reluctant to jump on the ban...</td>\n",
       "      <td>originally reluctant jump bandwagon watching l...</td>\n",
       "    </tr>\n",
       "    <tr>\n",
       "      <th>24989</th>\n",
       "      <td>\"5974_7\"</td>\n",
       "      <td>1</td>\n",
       "      <td>\"I heard about this movie when watching VH1's ...</td>\n",
       "      <td>heard movie watching vh metal moments segment ...</td>\n",
       "    </tr>\n",
       "    <tr>\n",
       "      <th>24990</th>\n",
       "      <td>\"2034_9\"</td>\n",
       "      <td>1</td>\n",
       "      <td>\"I've never been huge on IMAX films. They're c...</td>\n",
       "      <td>ve never huge imax films re cool get initial r...</td>\n",
       "    </tr>\n",
       "    <tr>\n",
       "      <th>24991</th>\n",
       "      <td>\"9416_3\"</td>\n",
       "      <td>0</td>\n",
       "      <td>\"Steve McQueen has certainly a lot of loyal fa...</td>\n",
       "      <td>steve mcqueen certainly lot loyal fans certain...</td>\n",
       "    </tr>\n",
       "    <tr>\n",
       "      <th>24992</th>\n",
       "      <td>\"10994_1\"</td>\n",
       "      <td>0</td>\n",
       "      <td>\"Sometimes you wonder how some people get fund...</td>\n",
       "      <td>sometimes wonder people get funding create mov...</td>\n",
       "    </tr>\n",
       "    <tr>\n",
       "      <th>24993</th>\n",
       "      <td>\"10957_3\"</td>\n",
       "      <td>0</td>\n",
       "      <td>\"I am a student of film, and have been for sev...</td>\n",
       "      <td>student film several years concept cyber kung ...</td>\n",
       "    </tr>\n",
       "    <tr>\n",
       "      <th>24994</th>\n",
       "      <td>\"2372_1\"</td>\n",
       "      <td>0</td>\n",
       "      <td>\"Unimaginably stupid, redundant and humiliatin...</td>\n",
       "      <td>unimaginably stupid redundant humiliating clos...</td>\n",
       "    </tr>\n",
       "    <tr>\n",
       "      <th>24995</th>\n",
       "      <td>\"3453_3\"</td>\n",
       "      <td>0</td>\n",
       "      <td>\"It seems like more consideration has gone int...</td>\n",
       "      <td>seems like consideration gone imdb reviews fil...</td>\n",
       "    </tr>\n",
       "    <tr>\n",
       "      <th>24996</th>\n",
       "      <td>\"5064_1\"</td>\n",
       "      <td>0</td>\n",
       "      <td>\"I don't believe they made this film. Complete...</td>\n",
       "      <td>believe made film completely unnecessary first...</td>\n",
       "    </tr>\n",
       "    <tr>\n",
       "      <th>24997</th>\n",
       "      <td>\"10905_3\"</td>\n",
       "      <td>0</td>\n",
       "      <td>\"Guy is a loser. Can't get girls, needs to bui...</td>\n",
       "      <td>guy loser get girls needs build picked stronge...</td>\n",
       "    </tr>\n",
       "    <tr>\n",
       "      <th>24998</th>\n",
       "      <td>\"10194_3\"</td>\n",
       "      <td>0</td>\n",
       "      <td>\"This 30 minute documentary Buñuel made in the...</td>\n",
       "      <td>minute documentary bu uel made early one spain...</td>\n",
       "    </tr>\n",
       "    <tr>\n",
       "      <th>24999</th>\n",
       "      <td>\"8478_8\"</td>\n",
       "      <td>1</td>\n",
       "      <td>\"I saw this movie as a child and it broke my h...</td>\n",
       "      <td>saw movie child broke heart story unfinished e...</td>\n",
       "    </tr>\n",
       "  </tbody>\n",
       "</table>\n",
       "<p>25000 rows × 4 columns</p>\n",
       "</div>"
      ],
      "text/plain": [
       "              id  sentiment  \\\n",
       "0       \"5814_8\"          1   \n",
       "1       \"2381_9\"          1   \n",
       "2       \"7759_3\"          0   \n",
       "3       \"3630_4\"          0   \n",
       "4       \"9495_8\"          1   \n",
       "5       \"8196_8\"          1   \n",
       "6       \"7166_2\"          0   \n",
       "7      \"10633_1\"          0   \n",
       "8        \"319_1\"          0   \n",
       "9      \"8713_10\"          1   \n",
       "10      \"2486_3\"          0   \n",
       "11     \"6811_10\"          1   \n",
       "12     \"11744_9\"          1   \n",
       "13      \"7369_1\"          0   \n",
       "14     \"12081_1\"          0   \n",
       "15      \"3561_4\"          0   \n",
       "16      \"4489_1\"          0   \n",
       "17      \"3951_2\"          0   \n",
       "18     \"3304_10\"          1   \n",
       "19     \"9352_10\"          1   \n",
       "20      \"3374_7\"          1   \n",
       "21     \"10782_7\"          1   \n",
       "22     \"5414_10\"          1   \n",
       "23     \"10492_1\"          0   \n",
       "24      \"3350_3\"          0   \n",
       "25      \"6581_7\"          1   \n",
       "26      \"2203_3\"          0   \n",
       "27       \"689_1\"          0   \n",
       "28      \"9152_1\"          0   \n",
       "29      \"6077_1\"          0   \n",
       "...          ...        ...   \n",
       "24970   \"9389_7\"          1   \n",
       "24971   \"9251_9\"          1   \n",
       "24972  \"1422_10\"          1   \n",
       "24973   \"7415_2\"          0   \n",
       "24974   \"7492_7\"          1   \n",
       "24975  \"7689_10\"          1   \n",
       "24976  \"12370_4\"          0   \n",
       "24977   \"5625_8\"          1   \n",
       "24978   \"9397_9\"          1   \n",
       "24979   \"5992_7\"          1   \n",
       "24980  \"2488_10\"          1   \n",
       "24981  \"9627_10\"          1   \n",
       "24982   \"3822_2\"          0   \n",
       "24983   \"5983_4\"          0   \n",
       "24984   \"8021_2\"          0   \n",
       "24985   \"3471_3\"          0   \n",
       "24986  \"6034_10\"          1   \n",
       "24987   \"1988_9\"          1   \n",
       "24988   \"7623_9\"          1   \n",
       "24989   \"5974_7\"          1   \n",
       "24990   \"2034_9\"          1   \n",
       "24991   \"9416_3\"          0   \n",
       "24992  \"10994_1\"          0   \n",
       "24993  \"10957_3\"          0   \n",
       "24994   \"2372_1\"          0   \n",
       "24995   \"3453_3\"          0   \n",
       "24996   \"5064_1\"          0   \n",
       "24997  \"10905_3\"          0   \n",
       "24998  \"10194_3\"          0   \n",
       "24999   \"8478_8\"          1   \n",
       "\n",
       "                                                  review  \\\n",
       "0      \"With all this stuff going down at the moment ...   \n",
       "1      \"\\\"The Classic War of the Worlds\\\" by Timothy ...   \n",
       "2      \"The film starts with a manager (Nicholas Bell...   \n",
       "3      \"It must be assumed that those who praised thi...   \n",
       "4      \"Superbly trashy and wondrously unpretentious ...   \n",
       "5      \"I dont know why people think this is such a b...   \n",
       "6      \"This movie could have been very good, but com...   \n",
       "7      \"I watched this video at a friend's house. I'm...   \n",
       "8      \"A friend of mine bought this film for £1, and...   \n",
       "9      \"<br /><br />This movie is full of references....   \n",
       "10     \"What happens when an army of wetbacks, towelh...   \n",
       "11     \"Although I generally do not like remakes beli...   \n",
       "12     \"\\\"Mr. Harvey Lights a Candle\\\" is anchored by...   \n",
       "13     \"I had a feeling that after \\\"Submerged\\\", thi...   \n",
       "14     \"note to George Litman, and others: the Myster...   \n",
       "15     \"Stephen King adaptation (scripted by King him...   \n",
       "16     \"`The Matrix' was an exciting summer blockbust...   \n",
       "17     \"Ulli Lommel's 1980 film 'The Boogey Man' is n...   \n",
       "18     \"This movie is one among the very few Indian m...   \n",
       "19     \"Most people, especially young people, may not...   \n",
       "20     \"\\\"Soylent Green\\\" is one of the best and most...   \n",
       "21     \"Michael Stearns plays Mike, a sexually frustr...   \n",
       "22     \"This happy-go-luck 1939 military swashbuckler...   \n",
       "23     \"I would love to have that two hours of my lif...   \n",
       "24     \"The script for this movie was probably found ...   \n",
       "25     \"Looking for Quo Vadis at my local video store...   \n",
       "26     \"Note to all mad scientists everywhere: if you...   \n",
       "27     \"What the ........... is this ? This must, wit...   \n",
       "28     \"Intrigued by the synopsis (every gay video th...   \n",
       "29     \"Would anyone really watch this RUBBISH if it ...   \n",
       "...                                                  ...   \n",
       "24970  \"Red Rock West (1993)<br /><br />Nicolas Cage ...   \n",
       "24971  \"what can i say?, ms Erika Eleniak is my favor...   \n",
       "24972  \"The spoiler warning is for those people who w...   \n",
       "24973  \"What do you call a horror story without horro...   \n",
       "24974  \"Though not a horror film in the traditional s...   \n",
       "24975  \"This was what black society was like before t...   \n",
       "24976  \"They probably should have called this movie T...   \n",
       "24977  \"Attractive Marjorie(Farrah Fawcett)lives in f...   \n",
       "24978  \"Vaguely reminiscent of great 1940's westerns,...   \n",
       "24979  \"I admit I had no idea what to expect before v...   \n",
       "24980  \"To me, the final scene, in which Harris respo...   \n",
       "24981  \"This is by far the funniest short made by the...   \n",
       "24982  \"To be a Buster Keaton fan is to have your hea...   \n",
       "24983  \"I was one of those \\\"few Americans\\\" that gre...   \n",
       "24984  \"Visually disjointed and full of itself, the d...   \n",
       "24985  \"this movie had more holes than a piece of swi...   \n",
       "24986  \"Last November, I had a chance to see this fil...   \n",
       "24987  \"First off, I'd like to make a correction on a...   \n",
       "24988  \"While originally reluctant to jump on the ban...   \n",
       "24989  \"I heard about this movie when watching VH1's ...   \n",
       "24990  \"I've never been huge on IMAX films. They're c...   \n",
       "24991  \"Steve McQueen has certainly a lot of loyal fa...   \n",
       "24992  \"Sometimes you wonder how some people get fund...   \n",
       "24993  \"I am a student of film, and have been for sev...   \n",
       "24994  \"Unimaginably stupid, redundant and humiliatin...   \n",
       "24995  \"It seems like more consideration has gone int...   \n",
       "24996  \"I don't believe they made this film. Complete...   \n",
       "24997  \"Guy is a loser. Can't get girls, needs to bui...   \n",
       "24998  \"This 30 minute documentary Buñuel made in the...   \n",
       "24999  \"I saw this movie as a child and it broke my h...   \n",
       "\n",
       "                                           clean_reviews  \n",
       "0      stuff going moment mj ve started listening mus...  \n",
       "1      classic war worlds timothy hines entertaining ...  \n",
       "2      film starts manager nicholas bell giving welco...  \n",
       "3      must assumed praised film greatest filmed oper...  \n",
       "4      superbly trashy wondrously unpretentious explo...  \n",
       "5      dont know people think bad movie got pretty go...  \n",
       "6      movie could good comes way short cheesy specia...  \n",
       "7      watched video friend house m glad waste money ...  \n",
       "8      friend mine bought film even grossly overprice...  \n",
       "9      movie full references like mad max ii wild one...  \n",
       "10     happens army wetbacks towelheads godless easte...  \n",
       "11     although generally like remakes believing rema...  \n",
       "12     mr harvey lights candle anchored brilliant per...  \n",
       "13     feeling submerged one wouldn better right must...  \n",
       "14     note george litman others mystery science thea...  \n",
       "15     stephen king adaptation scripted king young fa...  \n",
       "16     matrix exciting summer blockbuster visually fa...  \n",
       "17     ulli lommel film boogey man classic average lo...  \n",
       "18     movie one among indian movies would never fade...  \n",
       "19     people especially young people may understand ...  \n",
       "20     soylent green one best disturbing science fict...  \n",
       "21     michael stearns plays mike sexually frustrated...  \n",
       "22     happy go luck military swashbuckler based rath...  \n",
       "23     would love two hours life back seemed several ...  \n",
       "24     script movie probably found hair ball recently...  \n",
       "25     looking quo vadis local video store found vers...  \n",
       "26     note mad scientists everywhere re going turn s...  \n",
       "27     must without doubt biggest waste film settings...  \n",
       "28     intrigued synopsis every gay video days hunk c...  \n",
       "29     would anyone really watch rubbish didn contain...  \n",
       "...                                                  ...  \n",
       "24970  red rock west nicolas cage gets embroiled dead...  \n",
       "24971  say ms erika eleniak favorite blonde girl ever...  \n",
       "24972  spoiler warning people want see animals landsc...  \n",
       "24973  call horror story without horror story irritat...  \n",
       "24974  though horror film traditional sense creepy li...  \n",
       "24975  black society like crack epidemics gangsta rap...  \n",
       "24976  probably called movie map majority whole stupi...  \n",
       "24977  attractive marjorie farrah fawcett lives fear ...  \n",
       "24978  vaguely reminiscent great westerns like treasu...  \n",
       "24979  admit idea expect viewing highly stylized piec...  \n",
       "24980  final scene harris responds press corp worthy ...  \n",
       "24981  far funniest short made two comic geniuses tim...  \n",
       "24982  buster keaton fan heart broken regular basis u...  \n",
       "24983  one americans grew gerry andersen marvelous cr...  \n",
       "24984  visually disjointed full director apparently c...  \n",
       "24985  movie holes piece swiss cheese ben affleck ser...  \n",
       "24986  last november chance see film reno film festiv...  \n",
       "24987  first d like make correction another review fi...  \n",
       "24988  originally reluctant jump bandwagon watching l...  \n",
       "24989  heard movie watching vh metal moments segment ...  \n",
       "24990  ve never huge imax films re cool get initial r...  \n",
       "24991  steve mcqueen certainly lot loyal fans certain...  \n",
       "24992  sometimes wonder people get funding create mov...  \n",
       "24993  student film several years concept cyber kung ...  \n",
       "24994  unimaginably stupid redundant humiliating clos...  \n",
       "24995  seems like consideration gone imdb reviews fil...  \n",
       "24996  believe made film completely unnecessary first...  \n",
       "24997  guy loser get girls needs build picked stronge...  \n",
       "24998  minute documentary bu uel made early one spain...  \n",
       "24999  saw movie child broke heart story unfinished e...  \n",
       "\n",
       "[25000 rows x 4 columns]"
      ]
     },
     "execution_count": 7,
     "metadata": {},
     "output_type": "execute_result"
    }
   ],
   "source": [
    "train"
   ]
  },
  {
   "cell_type": "code",
   "execution_count": 8,
   "metadata": {
    "collapsed": false
   },
   "outputs": [],
   "source": [
    "freq = defaultdict(int)\n",
    "for review in train['clean_reviews']:\n",
    "    for word in review.strip().split():\n",
    "        freq[word] += 1"
   ]
  },
  {
   "cell_type": "code",
   "execution_count": 9,
   "metadata": {
    "collapsed": false
   },
   "outputs": [],
   "source": [
    "texts = [[word for word in review.strip().split() if (freq[word] > 5 and freq[word] < 1000000)] for review in train['clean_reviews']]"
   ]
  },
  {
   "cell_type": "code",
   "execution_count": 10,
   "metadata": {
    "collapsed": true
   },
   "outputs": [],
   "source": [
    "dictionary = gensim.corpora.Dictionary(texts)"
   ]
  },
  {
   "cell_type": "code",
   "execution_count": 11,
   "metadata": {
    "collapsed": false
   },
   "outputs": [],
   "source": [
    "dictionary.save('data/movie/train.dict')"
   ]
  },
  {
   "cell_type": "code",
   "execution_count": 12,
   "metadata": {
    "collapsed": true
   },
   "outputs": [],
   "source": [
    "class MyCorpus(object):\n",
    "    def __iter__(self):\n",
    "        for review in train['clean_reviews']:\n",
    "            yield dictionary.doc2bow(review.strip().split())"
   ]
  },
  {
   "cell_type": "code",
   "execution_count": 13,
   "metadata": {
    "collapsed": false
   },
   "outputs": [
    {
     "name": "stdout",
     "output_type": "stream",
     "text": [
      "[(0, 2), (1, 1), (2, 1), (3, 1), (4, 1), (5, 1), (6, 2), (7, 1), (8, 1), (9, 1), (10, 1), (11, 2), (12, 1), (13, 2), (14, 1), (15, 3), (16, 1), (17, 1), (18, 1), (19, 1), (20, 1), (21, 1), (22, 1), (23, 3), (24, 1), (25, 1), (26, 1), (27, 3), (28, 1), (29, 1), (30, 1), (31, 2), (32, 1), (33, 2), (34, 1), (35, 3), (36, 1), (37, 1), (38, 1), (39, 1), (40, 2), (41, 3), (42, 1), (43, 1), (44, 1), (45, 1), (46, 1), (47, 2), (48, 2), (49, 1), (50, 1), (51, 1), (52, 1), (53, 1), (54, 1), (55, 1), (56, 1), (57, 1), (58, 1), (59, 1), (60, 1), (61, 1), (62, 2), (63, 1), (64, 1), (65, 1), (66, 1), (67, 1), (68, 1), (69, 1), (70, 1), (71, 1), (72, 1), (73, 1), (74, 1), (75, 1), (76, 1), (77, 1), (78, 4), (79, 1), (80, 1), (81, 2), (82, 1), (83, 1), (84, 5), (85, 1), (86, 2), (87, 1), (88, 1), (89, 1), (90, 1), (91, 1), (92, 1), (93, 1), (94, 1), (95, 2), (96, 1), (97, 1), (98, 1), (99, 1), (100, 1), (101, 1), (102, 1), (103, 1), (104, 1), (105, 11), (106, 1), (107, 1), (108, 1), (109, 1), (110, 1), (111, 1), (112, 1), (113, 1), (114, 2), (115, 1), (116, 2), (117, 1), (118, 1), (119, 1), (120, 1), (121, 2), (122, 2), (123, 1), (124, 1), (125, 3), (126, 1), (127, 1), (128, 1), (129, 1), (130, 2), (131, 1), (132, 2), (133, 1), (134, 2), (135, 1), (136, 1), (137, 2), (138, 1), (139, 1), (140, 1), (141, 1), (142, 1), (143, 1), (144, 1), (145, 1), (146, 1), (147, 1), (148, 1), (149, 1), (150, 1), (151, 1), (152, 1), (153, 1), (154, 2), (155, 2), (156, 1), (157, 1), (158, 1), (159, 1), (160, 3), (161, 1), (162, 1)]\n"
     ]
    }
   ],
   "source": [
    "for vector in MyCorpus():\n",
    "    print(vector)\n",
    "    break"
   ]
  },
  {
   "cell_type": "code",
   "execution_count": 14,
   "metadata": {
    "collapsed": false
   },
   "outputs": [],
   "source": [
    "gensim.corpora.MmCorpus.serialize('data/movie/train_corpus.mm', MyCorpus())"
   ]
  },
  {
   "cell_type": "code",
   "execution_count": 15,
   "metadata": {
    "collapsed": true
   },
   "outputs": [],
   "source": [
    "corp = gensim.corpora.MmCorpus('data/movie/train_corpus.mm')"
   ]
  },
  {
   "cell_type": "code",
   "execution_count": 16,
   "metadata": {
    "collapsed": false
   },
   "outputs": [],
   "source": [
    "lda_model = gensim.models.LdaModel(corp, id2word=dictionary, num_topics=50)"
   ]
  },
  {
   "cell_type": "code",
   "execution_count": 17,
   "metadata": {
    "collapsed": false
   },
   "outputs": [],
   "source": [
    "hdp_model = gensim.models.HdpModel(corp, id2word=dictionary)"
   ]
  },
  {
   "cell_type": "code",
   "execution_count": 18,
   "metadata": {
    "collapsed": false
   },
   "outputs": [
    {
     "data": {
      "text/plain": [
       "[(18,\n",
       "  u'0.026*movie + 0.010*film + 0.007*like + 0.007*well + 0.006*one + 0.006*much + 0.006*characters + 0.005*character + 0.005*good + 0.005*book'),\n",
       " (11,\n",
       "  u'0.019*film + 0.012*one + 0.009*jack + 0.005*football + 0.005*first + 0.004*good + 0.004*story + 0.003*time + 0.003*hotel + 0.003*code'),\n",
       " (21,\n",
       "  u'0.009*story + 0.008*sinatra + 0.008*charlie + 0.007*film + 0.007*stewart + 0.007*one + 0.007*frank + 0.007*western + 0.005*also + 0.005*town'),\n",
       " (39,\n",
       "  u'0.019*luke + 0.016*star + 0.012*wars + 0.007*vader + 0.006*emperor + 0.006*jabba + 0.006*han + 0.005*dentist + 0.005*rebel + 0.005*one'),\n",
       " (6,\n",
       "  u'0.047*film + 0.014*story + 0.012*one + 0.008*well + 0.007*films + 0.005*much + 0.005*time + 0.005*first + 0.005*great + 0.005*characters'),\n",
       " (38,\n",
       "  u'0.015*film + 0.014*jane + 0.008*version + 0.008*one + 0.007*story + 0.007*christian + 0.006*rochester + 0.006*victoria + 0.006*novel + 0.005*much'),\n",
       " (22,\n",
       "  u'0.014*film + 0.006*man + 0.005*women + 0.005*also + 0.005*one + 0.004*life + 0.003*town + 0.003*crime + 0.003*wife + 0.003*character'),\n",
       " (49,\n",
       "  u'0.041*show + 0.022*series + 0.014*episode + 0.011*one + 0.010*like + 0.009*episodes + 0.008*great + 0.008*season + 0.008*first + 0.008*tv'),\n",
       " (2,\n",
       "  u'0.007*oliver + 0.006*foster + 0.006*young + 0.005*mr + 0.005*frankie + 0.005*black + 0.004*james + 0.004*family + 0.004*mother + 0.004*cagney'),\n",
       " (35,\n",
       "  u'0.022*japanese + 0.019*de + 0.010*dan + 0.009*one + 0.007*japan + 0.006*roy + 0.006*movie + 0.006*also + 0.005*india + 0.005*victor')]"
      ]
     },
     "execution_count": 18,
     "metadata": {},
     "output_type": "execute_result"
    }
   ],
   "source": [
    "lda_model.print_topics()"
   ]
  },
  {
   "cell_type": "code",
   "execution_count": 19,
   "metadata": {
    "collapsed": false
   },
   "outputs": [
    {
     "data": {
      "text/plain": [
       "[u'topic 0: 0.014*movie + 0.013*film + 0.009*one + 0.007*like + 0.005*good',\n",
       " u'topic 1: 0.020*movie + 0.014*film + 0.009*one + 0.008*like + 0.006*good',\n",
       " u'topic 2: 0.022*movie + 0.013*film + 0.009*one + 0.008*like + 0.007*good',\n",
       " u'topic 3: 0.004*movie + 0.004*film + 0.003*one + 0.002*bad + 0.002*like',\n",
       " u'topic 4: 0.004*movie + 0.003*film + 0.002*great + 0.002*good + 0.002*like',\n",
       " u'topic 5: 0.004*film + 0.004*movie + 0.003*one + 0.002*like + 0.002*would',\n",
       " u'topic 6: 0.003*film + 0.003*movie + 0.002*one + 0.001*like + 0.001*people',\n",
       " u'topic 7: 0.003*film + 0.002*movie + 0.002*one + 0.001*good + 0.001*even',\n",
       " u'topic 8: 0.003*movie + 0.003*film + 0.001*one + 0.001*like + 0.001*well',\n",
       " u'topic 9: 0.002*movie + 0.001*film + 0.001*good + 0.001*one + 0.001*joe',\n",
       " u'topic 10: 0.002*film + 0.001*story + 0.001*one + 0.001*kelly + 0.001*iberia',\n",
       " u'topic 11: 0.002*movie + 0.001*like + 0.001*film + 0.001*celeste + 0.001*show',\n",
       " u'topic 12: 0.002*film + 0.002*movie + 0.001*raj + 0.001*one + 0.001*priya',\n",
       " u'topic 13: 0.001*film + 0.001*movie + 0.001*one + 0.001*made + 0.001*make',\n",
       " u'topic 14: 0.001*film + 0.001*jackie + 0.001*good + 0.001*chan + 0.001*one',\n",
       " u'topic 15: 0.003*movie + 0.001*like + 0.001*would + 0.001*one + 0.001*really',\n",
       " u'topic 16: 0.002*movie + 0.001*joe + 0.001*film + 0.001*many + 0.001*ratso',\n",
       " u'topic 17: 0.002*davis + 0.002*film + 0.001*movie + 0.001*one + 0.001*performance',\n",
       " u'topic 18: 0.002*movie + 0.001*film + 0.001*one + 0.001*first + 0.001*story',\n",
       " u'topic 19: 0.002*movie + 0.002*one + 0.001*film + 0.001*really + 0.001*like',\n",
       " u'topic 20: 0.001*movie + 0.001*film + 0.001*like + 0.001*nancy + 0.001*time',\n",
       " u'topic 21: 0.002*match + 0.001*one + 0.001*movie + 0.001*good + 0.001*v',\n",
       " u'topic 22: 0.002*movie + 0.001*film + 0.001*one + 0.001*story + 0.001*well',\n",
       " u'topic 23: 0.002*film + 0.001*movie + 0.001*story + 0.001*like + 0.001*people',\n",
       " u'topic 24: 0.001*movie + 0.001*one + 0.001*people + 0.001*think + 0.001*would',\n",
       " u'topic 25: 0.002*film + 0.001*one + 0.001*movie + 0.001*much + 0.001*would',\n",
       " u'topic 26: 0.001*film + 0.001*bazza + 0.001*father + 0.001*reda + 0.001*like',\n",
       " u'topic 27: 0.001*film + 0.001*good + 0.001*movie + 0.001*one + 0.001*really',\n",
       " u'topic 28: 0.001*film + 0.001*good + 0.001*one + 0.001*also + 0.001*horror',\n",
       " u'topic 29: 0.002*lou + 0.002*mary + 0.001*prom + 0.001*film + 0.001*night',\n",
       " u'topic 30: 0.002*movie + 0.001*one + 0.001*see + 0.001*like + 0.001*good',\n",
       " u'topic 31: 0.001*movie + 0.001*film + 0.001*eva + 0.001*one + 0.000*alone',\n",
       " u'topic 32: 0.001*movie + 0.001*one + 0.001*good + 0.001*would + 0.000*another',\n",
       " u'topic 33: 0.001*film + 0.001*movie + 0.001*leon + 0.001*well + 0.001*bourne',\n",
       " u'topic 34: 0.001*film + 0.001*well + 0.001*movie + 0.001*good + 0.001*one',\n",
       " u'topic 35: 0.001*film + 0.001*one + 0.001*well + 0.001*blood + 0.001*school',\n",
       " u'topic 36: 0.002*flick + 0.002*zombie + 0.001*zombies + 0.001*film + 0.001*really',\n",
       " u'topic 37: 0.003*movie + 0.001*movies + 0.001*time + 0.001*clich + 0.001*one',\n",
       " u'topic 38: 0.001*movie + 0.001*good + 0.001*one + 0.001*film + 0.000*think',\n",
       " u'topic 39: 0.001*get + 0.001*movie + 0.001*like + 0.001*pam + 0.001*people',\n",
       " u'topic 40: 0.001*film + 0.001*boy + 0.000*man + 0.000*modine + 0.000*publicist',\n",
       " u'topic 41: 0.001*movie + 0.001*film + 0.000*using + 0.000*managed + 0.000*one',\n",
       " u'topic 42: 0.002*film + 0.000*story + 0.000*jettisoned + 0.000*like + 0.000*movie',\n",
       " u'topic 43: 0.001*film + 0.001*movie + 0.000*every + 0.000*even + 0.000*long',\n",
       " u'topic 44: 0.001*movie + 0.001*film + 0.000*crud + 0.000*one + 0.000*usually',\n",
       " u'topic 45: 0.001*film + 0.001*cop + 0.000*movie + 0.000*scenes + 0.000*ever',\n",
       " u'topic 46: 0.001*movie + 0.001*one + 0.000*lynn + 0.000*life + 0.000*chamberlain',\n",
       " u'topic 47: 0.001*film + 0.000*bad + 0.000*best + 0.000*movie + 0.000*character',\n",
       " u'topic 48: 0.001*film + 0.000*pee + 0.000*electing + 0.000*could + 0.000*reindeer',\n",
       " u'topic 49: 0.001*film + 0.001*one + 0.001*war + 0.000*women + 0.000*many']"
      ]
     },
     "execution_count": 19,
     "metadata": {},
     "output_type": "execute_result"
    }
   ],
   "source": [
    "hdp_model.print_topics(topics=50, topn=5)"
   ]
  },
  {
   "cell_type": "code",
   "execution_count": 20,
   "metadata": {
    "collapsed": false
   },
   "outputs": [],
   "source": [
    "tfidf_model = gensim.models.TfidfModel(corp)"
   ]
  },
  {
   "cell_type": "code",
   "execution_count": 21,
   "metadata": {
    "collapsed": false
   },
   "outputs": [],
   "source": [
    "class MyCorpusTfidf(object):\n",
    "    def __iter__(self):\n",
    "        for review in train['clean_reviews']:\n",
    "            yield tfidf_model[dictionary.doc2bow(review.strip().split())]"
   ]
  },
  {
   "cell_type": "code",
   "execution_count": 22,
   "metadata": {
    "collapsed": false
   },
   "outputs": [],
   "source": [
    "gensim.corpora.MmCorpus.serialize('data/movie/train_corpus_tfidf.mm', MyCorpusTfidf())"
   ]
  },
  {
   "cell_type": "code",
   "execution_count": 23,
   "metadata": {
    "collapsed": true
   },
   "outputs": [],
   "source": [
    "corp_tfidf = gensim.corpora.MmCorpus('data/movie/train_corpus_tfidf.mm')"
   ]
  },
  {
   "cell_type": "code",
   "execution_count": 24,
   "metadata": {
    "collapsed": false
   },
   "outputs": [
    {
     "name": "stdout",
     "output_type": "stream",
     "text": [
      "MmCorpus(25000 documents, 26079 features, 2404140 non-zero entries)\n"
     ]
    }
   ],
   "source": [
    "print(corp_tfidf)"
   ]
  },
  {
   "cell_type": "code",
   "execution_count": 25,
   "metadata": {
    "collapsed": true
   },
   "outputs": [],
   "source": [
    "lda_model_tfidf = gensim.models.LdaModel(corp_tfidf, id2word=dictionary, num_topics=50)"
   ]
  },
  {
   "cell_type": "code",
   "execution_count": 26,
   "metadata": {
    "collapsed": true
   },
   "outputs": [],
   "source": [
    "hdp_model_tfidf = gensim.models.HdpModel(corp_tfidf, id2word=dictionary)"
   ]
  },
  {
   "cell_type": "code",
   "execution_count": 27,
   "metadata": {
    "collapsed": false
   },
   "outputs": [
    {
     "data": {
      "text/plain": [
       "[(27,\n",
       "  u'0.003*film + 0.002*version + 0.002*musical + 0.002*story + 0.002*great + 0.002*love + 0.002*well + 0.002*also + 0.002*young + 0.002*quite'),\n",
       " (49,\n",
       "  u'0.011*vampire + 0.008*dick + 0.007*foxx + 0.007*hawn + 0.006*vampires + 0.006*goldie + 0.006*tube + 0.006*net + 0.006*tooth + 0.006*twelve'),\n",
       " (32,\n",
       "  u'0.011*ustinov + 0.009*iran + 0.009*files + 0.007*btk + 0.006*hughes + 0.006*outta + 0.006*banter + 0.006*iranian + 0.006*shoulder + 0.006*davies'),\n",
       " (11,\n",
       "  u'0.013*baseball + 0.008*tip + 0.008*fever + 0.006*ww + 0.005*crashing + 0.005*luise + 0.005*nah + 0.004*sox + 0.004*muni + 0.004*fishburne'),\n",
       " (38,\n",
       "  u'0.011*homicide + 0.010*omen + 0.009*bonham + 0.009*carter + 0.008*aunts + 0.008*karen + 0.008*lukas + 0.008*travesty + 0.007*sarcasm + 0.007*animations'),\n",
       " (41,\n",
       "  u'0.009*dont + 0.006*sutherland + 0.006*mafia + 0.005*elvira + 0.005*kathryn + 0.005*paxton + 0.005*campbell + 0.005*bat + 0.005*paris + 0.005*mankind'),\n",
       " (35,\n",
       "  u'0.008*leon + 0.007*puerto + 0.007*spinal + 0.007*tap + 0.007*danish + 0.006*berkowitz + 0.006*charlotte + 0.006*barrymore + 0.006*rap + 0.006*villa'),\n",
       " (10,\n",
       "  u'0.011*worms + 0.008*suffice + 0.007*puppet + 0.007*gap + 0.006*dismal + 0.006*sophie + 0.006*culprit + 0.006*takashi + 0.006*patiently + 0.005*zenia'),\n",
       " (46,\n",
       "  u'0.022*columbo + 0.009*troma + 0.009*falk + 0.009*buffy + 0.007*hostel + 0.007*chong + 0.006*hasselhoff + 0.006*mars + 0.006*battlestar + 0.005*levant'),\n",
       " (12,\n",
       "  u'0.008*eddie + 0.007*murphy + 0.005*robin + 0.005*roy + 0.005*rob + 0.004*carol + 0.004*insight + 0.003*germans + 0.003*zizek + 0.003*caricatures')]"
      ]
     },
     "execution_count": 27,
     "metadata": {},
     "output_type": "execute_result"
    }
   ],
   "source": [
    "lda_model_tfidf.print_topics()"
   ]
  },
  {
   "cell_type": "code",
   "execution_count": 28,
   "metadata": {
    "collapsed": false
   },
   "outputs": [
    {
     "data": {
      "text/plain": [
       "[u'topic 0: 0.002*movie + 0.001*film + 0.001*bad + 0.001*one + 0.001*really',\n",
       " u'topic 1: 0.001*movie + 0.001*film + 0.001*bad + 0.001*good + 0.000*people',\n",
       " u'topic 2: 0.001*movie + 0.001*film + 0.000*bad + 0.000*arrow + 0.000*see',\n",
       " u'topic 3: 0.001*movie + 0.000*film + 0.000*like + 0.000*good + 0.000*us',\n",
       " u'topic 4: 0.000*movie + 0.000*film + 0.000*story + 0.000*rostov + 0.000*like',\n",
       " u'topic 5: 0.001*movie + 0.000*film + 0.000*little + 0.000*well + 0.000*throwing',\n",
       " u'topic 6: 0.000*movie + 0.000*film + 0.000*make + 0.000*like + 0.000*also',\n",
       " u'topic 7: 0.000*movie + 0.000*film + 0.000*eat + 0.000*good + 0.000*make',\n",
       " u'topic 8: 0.000*film + 0.000*panned + 0.000*layered + 0.000*movie + 0.000*heros',\n",
       " u'topic 9: 0.000*movie + 0.000*robinsons + 0.000*film + 0.000*crap + 0.000*slew',\n",
       " u'topic 10: 0.000*movie + 0.000*theodore + 0.000*bad + 0.000*film + 0.000*haskell',\n",
       " u'topic 11: 0.000*movie + 0.000*tinted + 0.000*lonette + 0.000*around + 0.000*d',\n",
       " u'topic 12: 0.000*yearning + 0.000*catalina + 0.000*caps + 0.000*movie + 0.000*gym',\n",
       " u'topic 13: 0.000*different + 0.000*movie + 0.000*bad + 0.000*behavior + 0.000*film',\n",
       " u'topic 14: 0.000*film + 0.000*movie + 0.000*flavour + 0.000*gunshots + 0.000*cut',\n",
       " u'topic 15: 0.000*well + 0.000*movie + 0.000*top + 0.000*vick + 0.000*utters',\n",
       " u'topic 16: 0.000*embassy + 0.000*features + 0.000*else + 0.000*looser + 0.000*robinson',\n",
       " u'topic 17: 0.000*watch + 0.000*movie + 0.000*clueless + 0.000*tam + 0.000*orange',\n",
       " u'topic 18: 0.000*movie + 0.000*eventually + 0.000*wurb + 0.000*unbeknownst + 0.000*extremes',\n",
       " u'topic 19: 0.000*movie + 0.000*episodes + 0.000*tomboy + 0.000*film + 0.000*tempest',\n",
       " u'topic 20: 0.000*melancholic + 0.000*factions + 0.000*foiled + 0.000*eerily + 0.000*kutcher',\n",
       " u'topic 21: 0.000*lacklustre + 0.000*film + 0.000*arrival + 0.000*bruhl + 0.000*entered',\n",
       " u'topic 22: 0.000*danni + 0.000*banker + 0.000*massachusetts + 0.000*worried + 0.000*possibly',\n",
       " u'topic 23: 0.000*pencil + 0.000*wilson + 0.000*unrequited + 0.000*funny + 0.000*delta',\n",
       " u'topic 24: 0.000*film + 0.000*olds + 0.000*hypocritical + 0.000*movie + 0.000*piecing',\n",
       " u'topic 25: 0.000*bleak + 0.000*movie + 0.000*dramatized + 0.000*film + 0.000*plus',\n",
       " u'topic 26: 0.000*ranking + 0.000*manage + 0.000*nauseating + 0.000*banderas + 0.000*leaping',\n",
       " u'topic 27: 0.000*russell + 0.000*streetcar + 0.000*classes + 0.000*angles + 0.000*alliance',\n",
       " u'topic 28: 0.000*movie + 0.000*spaceship + 0.000*dispel + 0.000*drops + 0.000*segment',\n",
       " u'topic 29: 0.000*innuendo + 0.000*tit + 0.000*vince + 0.000*movie + 0.000*malta',\n",
       " u'topic 30: 0.000*suddenly + 0.000*better + 0.000*sissi + 0.000*implausibilities + 0.000*ridiculous',\n",
       " u'topic 31: 0.000*resentful + 0.000*believe + 0.000*kidnap + 0.000*film + 0.000*movie',\n",
       " u'topic 32: 0.000*every + 0.000*movie + 0.000*chests + 0.000*emotion + 0.000*pampered',\n",
       " u'topic 33: 0.000*bees + 0.000*stop + 0.000*interacting + 0.000*film + 0.000*complicated',\n",
       " u'topic 34: 0.000*movie + 0.000*spitfire + 0.000*way + 0.000*evolve + 0.000*come',\n",
       " u'topic 35: 0.000*funded + 0.000*feel + 0.000*reverse + 0.000*boast + 0.000*entrepreneur',\n",
       " u'topic 36: 0.000*battery + 0.000*j + 0.000*heroics + 0.000*merlin + 0.000*infatuation',\n",
       " u'topic 37: 0.000*shady + 0.000*squabble + 0.000*gras + 0.000*overall + 0.000*movie',\n",
       " u'topic 38: 0.000*nominated + 0.000*movie + 0.000*glimpsed + 0.000*see + 0.000*admits',\n",
       " u'topic 39: 0.000*sarah + 0.000*different + 0.000*millar + 0.000*disinterest + 0.000*gloss',\n",
       " u'topic 40: 0.000*bee + 0.000*movie + 0.000*tormentors + 0.000*technology + 0.000*drew',\n",
       " u'topic 41: 0.000*one + 0.000*type + 0.000*movie + 0.000*berserk + 0.000*good',\n",
       " u'topic 42: 0.000*victory + 0.000*mink + 0.000*pancakes + 0.000*movie + 0.000*tanked',\n",
       " u'topic 43: 0.000*games + 0.000*candice + 0.000*sinks + 0.000*corsia + 0.000*quieter',\n",
       " u'topic 44: 0.000*picky + 0.000*reptile + 0.000*crapfest + 0.000*stacks + 0.000*stinker',\n",
       " u'topic 45: 0.000*one + 0.000*favoured + 0.000*movie + 0.000*distorted + 0.000*biggs',\n",
       " u'topic 46: 0.000*predicted + 0.000*yep + 0.000*rooker + 0.000*wyoming + 0.000*physicality',\n",
       " u'topic 47: 0.000*watches + 0.000*veil + 0.000*movie + 0.000*vijay + 0.000*accommodate',\n",
       " u'topic 48: 0.000*guitarist + 0.000*exaggerations + 0.000*little + 0.000*panther + 0.000*factual',\n",
       " u'topic 49: 0.000*ullman + 0.000*scraggly + 0.000*sketch + 0.000*shoot + 0.000*ripper']"
      ]
     },
     "execution_count": 28,
     "metadata": {},
     "output_type": "execute_result"
    }
   ],
   "source": [
    "hdp_model_tfidf.print_topics(topics=50, topn=5)"
   ]
  },
  {
   "cell_type": "code",
   "execution_count": null,
   "metadata": {
    "collapsed": true
   },
   "outputs": [],
   "source": []
  }
 ],
 "metadata": {
  "kernelspec": {
   "display_name": "Python 2",
   "language": "python",
   "name": "python2"
  },
  "language_info": {
   "codemirror_mode": {
    "name": "ipython",
    "version": 2
   },
   "file_extension": ".py",
   "mimetype": "text/x-python",
   "name": "python",
   "nbconvert_exporter": "python",
   "pygments_lexer": "ipython2",
   "version": "2.7.11"
  }
 },
 "nbformat": 4,
 "nbformat_minor": 0
}
