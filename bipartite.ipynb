{
 "cells": [
  {
   "cell_type": "code",
   "execution_count": 2,
   "metadata": {
    "collapsed": false
   },
   "outputs": [
    {
     "name": "stdout",
     "output_type": "stream",
     "text": [
      "Populating the interactive namespace from numpy and matplotlib\n"
     ]
    }
   ],
   "source": [
    "%pylab inline"
   ]
  },
  {
   "cell_type": "code",
   "execution_count": 3,
   "metadata": {
    "collapsed": false
   },
   "outputs": [],
   "source": [
    "import seaborn as sns\n",
    "import pandas as pd\n",
    "import gensim\n",
    "import nltk\n",
    "import re\n",
    "import string\n",
    "from curses.ascii import isprint"
   ]
  },
  {
   "cell_type": "code",
   "execution_count": 4,
   "metadata": {
    "collapsed": false
   },
   "outputs": [],
   "source": [
    "stop_words = open('stop_words').read().split('\\n')[:-1]\n",
    "#stop_words = 'the,for,to,you,call,that'.split(',')\n",
    "#print stop_words"
   ]
  },
  {
   "cell_type": "code",
   "execution_count": 5,
   "metadata": {
    "collapsed": false
   },
   "outputs": [],
   "source": [
    "emails_table = pd.read_csv(\"data/emails/Emails.csv\").dropna()\n",
    "person_table = pd.read_csv(\"data/emails/Persons.csv\").dropna()\n",
    "alias_table = pd.read_csv(\"data/emails/Aliases.csv\").dropna()\n",
    "email_rec_table = pd.read_csv(\"data/emails/EmailReceivers.csv\").dropna()"
   ]
  },
  {
   "cell_type": "code",
   "execution_count": 6,
   "metadata": {
    "collapsed": false
   },
   "outputs": [
    {
     "data": {
      "text/html": [
       "<div>\n",
       "<table border=\"1\" class=\"dataframe\">\n",
       "  <thead>\n",
       "    <tr style=\"text-align: right;\">\n",
       "      <th></th>\n",
       "      <th>Id</th>\n",
       "      <th>DocNumber</th>\n",
       "      <th>MetadataSubject</th>\n",
       "      <th>MetadataTo</th>\n",
       "      <th>MetadataFrom</th>\n",
       "      <th>SenderPersonId</th>\n",
       "      <th>MetadataDateSent</th>\n",
       "      <th>MetadataDateReleased</th>\n",
       "      <th>MetadataPdfLink</th>\n",
       "      <th>MetadataCaseNumber</th>\n",
       "      <th>...</th>\n",
       "      <th>ExtractedTo</th>\n",
       "      <th>ExtractedFrom</th>\n",
       "      <th>ExtractedCc</th>\n",
       "      <th>ExtractedDateSent</th>\n",
       "      <th>ExtractedCaseNumber</th>\n",
       "      <th>ExtractedDocNumber</th>\n",
       "      <th>ExtractedDateReleased</th>\n",
       "      <th>ExtractedReleaseInPartOrFull</th>\n",
       "      <th>ExtractedBodyText</th>\n",
       "      <th>RawText</th>\n",
       "    </tr>\n",
       "  </thead>\n",
       "  <tbody>\n",
       "    <tr>\n",
       "      <th>2</th>\n",
       "      <td>3</td>\n",
       "      <td>C05739547</td>\n",
       "      <td>CHRIS STEVENS</td>\n",
       "      <td>;H</td>\n",
       "      <td>Mills, Cheryl D</td>\n",
       "      <td>32.0</td>\n",
       "      <td>2012-09-12T04:00:00+00:00</td>\n",
       "      <td>2015-05-22T04:00:00+00:00</td>\n",
       "      <td>DOCUMENTS/HRC_Email_1_296/HRCH2/DOC_0C05739547...</td>\n",
       "      <td>F-2015-04841</td>\n",
       "      <td>...</td>\n",
       "      <td>B6</td>\n",
       "      <td>Mills, Cheryl D &lt;MillsCD@state.gov&gt;</td>\n",
       "      <td>Abedin, Huma</td>\n",
       "      <td>Wednesday, September 12, 2012 11:52 AM</td>\n",
       "      <td>F-2015-04841</td>\n",
       "      <td>C05739547</td>\n",
       "      <td>05/14/2015</td>\n",
       "      <td>RELEASE IN PART</td>\n",
       "      <td>Thx</td>\n",
       "      <td>UNCLASSIFIED\\nU.S. Department of State\\nCase N...</td>\n",
       "    </tr>\n",
       "    <tr>\n",
       "      <th>16</th>\n",
       "      <td>17</td>\n",
       "      <td>C05739573</td>\n",
       "      <td>THE YOUTH OF LIBYA</td>\n",
       "      <td>H</td>\n",
       "      <td>Sherman, Wendy R</td>\n",
       "      <td>213.0</td>\n",
       "      <td>2012-09-12T04:00:00+00:00</td>\n",
       "      <td>2015-05-22T04:00:00+00:00</td>\n",
       "      <td>DOCUMENTS/HRC_Email_1_296/HRCH2/DOC_0C05739573...</td>\n",
       "      <td>F-2015-04841</td>\n",
       "      <td>...</td>\n",
       "      <td>H; Mills, Cheryl D; Sullivan, Jacob J; Nuiand,...</td>\n",
       "      <td>Sherman, Wendy R &lt;ShermanWR@state.gov&gt;</td>\n",
       "      <td>Escrogirna, Ana A; Grantham, Chris W</td>\n",
       "      <td>Wednesday, September 12, 2012 9:57 PM</td>\n",
       "      <td>F-2015-04841</td>\n",
       "      <td>C05739573</td>\n",
       "      <td>05/13/2015</td>\n",
       "      <td>RELEASE IN FULL</td>\n",
       "      <td>Hope. See picture below Kamala sent.</td>\n",
       "      <td>-ottgat,t\\n4 44 4, 0\\n.\\n1.3.141.4443\\nUNCLASS...</td>\n",
       "    </tr>\n",
       "    <tr>\n",
       "      <th>17</th>\n",
       "      <td>18</td>\n",
       "      <td>C05739575</td>\n",
       "      <td>ONE MORE PHOTO</td>\n",
       "      <td>H</td>\n",
       "      <td>Sherman, Wendy R</td>\n",
       "      <td>213.0</td>\n",
       "      <td>2012-09-12T04:00:00+00:00</td>\n",
       "      <td>2015-05-22T04:00:00+00:00</td>\n",
       "      <td>DOCUMENTS/HRC_Email_1_296/HRCH2/DOC_0C05739575...</td>\n",
       "      <td>F-2015-04841</td>\n",
       "      <td>...</td>\n",
       "      <td>H; Mills, Cheryl D; Sullivan, Jacob J, Nuland,...</td>\n",
       "      <td>Sherman, Wendy R &lt;ShermanWR@state.gov&gt;</td>\n",
       "      <td>Escrogima, Ana A</td>\n",
       "      <td>Wednesday, September 12, 2012 10:03 PM</td>\n",
       "      <td>F-2015-04841</td>\n",
       "      <td>C05739575</td>\n",
       "      <td>05/13/2015</td>\n",
       "      <td>RELEASE IN FULL</td>\n",
       "      <td>Another photo.</td>\n",
       "      <td>c. 371.14\\nUNCLASSIFIED\\nU.S. Department of St...</td>\n",
       "    </tr>\n",
       "    <tr>\n",
       "      <th>65</th>\n",
       "      <td>66</td>\n",
       "      <td>C05739638</td>\n",
       "      <td>BRITS AND LIBYA</td>\n",
       "      <td>sullivanjj@state.gov</td>\n",
       "      <td>H</td>\n",
       "      <td>80.0</td>\n",
       "      <td>2011-04-02T04:00:00+00:00</td>\n",
       "      <td>2015-05-22T04:00:00+00:00</td>\n",
       "      <td>DOCUMENTS/HRC_Email_1_296/HRCH1/DOC_0C05739638...</td>\n",
       "      <td>F-2015-04841</td>\n",
       "      <td>...</td>\n",
       "      <td>'sullivanjj@state.gov'</td>\n",
       "      <td>H &lt;hrod17@clintonemailcom&gt;</td>\n",
       "      <td>Huma Abedin</td>\n",
       "      <td>Saturday, April 02, 2011 1034 AM</td>\n",
       "      <td>F-2015-04841</td>\n",
       "      <td>C05739638</td>\n",
       "      <td>05/13/2015</td>\n",
       "      <td>RELEASE IN PART</td>\n",
       "      <td>When is Chris Stevens going?\\n---,</td>\n",
       "      <td>UNCLASSIFIED\\nU.S. Department of State\\nCase N...</td>\n",
       "    </tr>\n",
       "    <tr>\n",
       "      <th>82</th>\n",
       "      <td>83</td>\n",
       "      <td>C05739656</td>\n",
       "      <td>THE CABLE: ROMNEY TO COMPARE BENGHAZI TO ORIGI...</td>\n",
       "      <td>millscd@state.gov</td>\n",
       "      <td>H</td>\n",
       "      <td>80.0</td>\n",
       "      <td>2012-10-08T04:00:00+00:00</td>\n",
       "      <td>2015-05-22T04:00:00+00:00</td>\n",
       "      <td>DOCUMENTS/HRC_Email_1_296/HRCH3/DOC_0C05739656...</td>\n",
       "      <td>F-2015-04841</td>\n",
       "      <td>...</td>\n",
       "      <td>'miliscd@stategov\"</td>\n",
       "      <td>H &lt;hrod17@clintonemail.com&gt;</td>\n",
       "      <td>Reines, Philippe 1; Mills, Cheryl D; Adams, Da...</td>\n",
       "      <td>Monday, October 08, 2012 07:26 AM</td>\n",
       "      <td>F-2015-04841</td>\n",
       "      <td>C05739656</td>\n",
       "      <td>05/13/2015</td>\n",
       "      <td>RELEASE IN FULL</td>\n",
       "      <td>Can you call me?</td>\n",
       "      <td>UNCLASSIFIED\\nU.S. Department of State\\nCase N...</td>\n",
       "    </tr>\n",
       "  </tbody>\n",
       "</table>\n",
       "<p>5 rows × 22 columns</p>\n",
       "</div>"
      ],
      "text/plain": [
       "    Id  DocNumber                                    MetadataSubject  \\\n",
       "2    3  C05739547                                      CHRIS STEVENS   \n",
       "16  17  C05739573                                 THE YOUTH OF LIBYA   \n",
       "17  18  C05739575                                     ONE MORE PHOTO   \n",
       "65  66  C05739638                                    BRITS AND LIBYA   \n",
       "82  83  C05739656  THE CABLE: ROMNEY TO COMPARE BENGHAZI TO ORIGI...   \n",
       "\n",
       "              MetadataTo      MetadataFrom  SenderPersonId  \\\n",
       "2                     ;H   Mills, Cheryl D            32.0   \n",
       "16                     H  Sherman, Wendy R           213.0   \n",
       "17                     H  Sherman, Wendy R           213.0   \n",
       "65  sullivanjj@state.gov                 H            80.0   \n",
       "82     millscd@state.gov                 H            80.0   \n",
       "\n",
       "             MetadataDateSent       MetadataDateReleased  \\\n",
       "2   2012-09-12T04:00:00+00:00  2015-05-22T04:00:00+00:00   \n",
       "16  2012-09-12T04:00:00+00:00  2015-05-22T04:00:00+00:00   \n",
       "17  2012-09-12T04:00:00+00:00  2015-05-22T04:00:00+00:00   \n",
       "65  2011-04-02T04:00:00+00:00  2015-05-22T04:00:00+00:00   \n",
       "82  2012-10-08T04:00:00+00:00  2015-05-22T04:00:00+00:00   \n",
       "\n",
       "                                      MetadataPdfLink MetadataCaseNumber  \\\n",
       "2   DOCUMENTS/HRC_Email_1_296/HRCH2/DOC_0C05739547...       F-2015-04841   \n",
       "16  DOCUMENTS/HRC_Email_1_296/HRCH2/DOC_0C05739573...       F-2015-04841   \n",
       "17  DOCUMENTS/HRC_Email_1_296/HRCH2/DOC_0C05739575...       F-2015-04841   \n",
       "65  DOCUMENTS/HRC_Email_1_296/HRCH1/DOC_0C05739638...       F-2015-04841   \n",
       "82  DOCUMENTS/HRC_Email_1_296/HRCH3/DOC_0C05739656...       F-2015-04841   \n",
       "\n",
       "                          ...                          \\\n",
       "2                         ...                           \n",
       "16                        ...                           \n",
       "17                        ...                           \n",
       "65                        ...                           \n",
       "82                        ...                           \n",
       "\n",
       "                                          ExtractedTo  \\\n",
       "2                                                  B6   \n",
       "16  H; Mills, Cheryl D; Sullivan, Jacob J; Nuiand,...   \n",
       "17  H; Mills, Cheryl D; Sullivan, Jacob J, Nuland,...   \n",
       "65                             'sullivanjj@state.gov'   \n",
       "82                                 'miliscd@stategov\"   \n",
       "\n",
       "                             ExtractedFrom  \\\n",
       "2      Mills, Cheryl D <MillsCD@state.gov>   \n",
       "16  Sherman, Wendy R <ShermanWR@state.gov>   \n",
       "17  Sherman, Wendy R <ShermanWR@state.gov>   \n",
       "65              H <hrod17@clintonemailcom>   \n",
       "82             H <hrod17@clintonemail.com>   \n",
       "\n",
       "                                          ExtractedCc  \\\n",
       "2                                        Abedin, Huma   \n",
       "16               Escrogirna, Ana A; Grantham, Chris W   \n",
       "17                                   Escrogima, Ana A   \n",
       "65                                        Huma Abedin   \n",
       "82  Reines, Philippe 1; Mills, Cheryl D; Adams, Da...   \n",
       "\n",
       "                         ExtractedDateSent ExtractedCaseNumber  \\\n",
       "2   Wednesday, September 12, 2012 11:52 AM        F-2015-04841   \n",
       "16   Wednesday, September 12, 2012 9:57 PM        F-2015-04841   \n",
       "17  Wednesday, September 12, 2012 10:03 PM        F-2015-04841   \n",
       "65        Saturday, April 02, 2011 1034 AM        F-2015-04841   \n",
       "82       Monday, October 08, 2012 07:26 AM        F-2015-04841   \n",
       "\n",
       "   ExtractedDocNumber ExtractedDateReleased ExtractedReleaseInPartOrFull  \\\n",
       "2           C05739547            05/14/2015              RELEASE IN PART   \n",
       "16          C05739573            05/13/2015              RELEASE IN FULL   \n",
       "17          C05739575            05/13/2015              RELEASE IN FULL   \n",
       "65          C05739638            05/13/2015              RELEASE IN PART   \n",
       "82          C05739656            05/13/2015              RELEASE IN FULL   \n",
       "\n",
       "                       ExtractedBodyText  \\\n",
       "2                                    Thx   \n",
       "16  Hope. See picture below Kamala sent.   \n",
       "17                        Another photo.   \n",
       "65    When is Chris Stevens going?\\n---,   \n",
       "82                      Can you call me?   \n",
       "\n",
       "                                              RawText  \n",
       "2   UNCLASSIFIED\\nU.S. Department of State\\nCase N...  \n",
       "16  -ottgat,t\\n4 44 4, 0\\n.\\n1.3.141.4443\\nUNCLASS...  \n",
       "17  c. 371.14\\nUNCLASSIFIED\\nU.S. Department of St...  \n",
       "65  UNCLASSIFIED\\nU.S. Department of State\\nCase N...  \n",
       "82  UNCLASSIFIED\\nU.S. Department of State\\nCase N...  \n",
       "\n",
       "[5 rows x 22 columns]"
      ]
     },
     "execution_count": 6,
     "metadata": {},
     "output_type": "execute_result"
    }
   ],
   "source": [
    "emails_table.head()"
   ]
  },
  {
   "cell_type": "code",
   "execution_count": 7,
   "metadata": {
    "collapsed": false
   },
   "outputs": [
    {
     "data": {
      "text/html": [
       "<div>\n",
       "<table border=\"1\" class=\"dataframe\">\n",
       "  <thead>\n",
       "    <tr style=\"text-align: right;\">\n",
       "      <th></th>\n",
       "      <th>Id</th>\n",
       "      <th>Name</th>\n",
       "    </tr>\n",
       "  </thead>\n",
       "  <tbody>\n",
       "    <tr>\n",
       "      <th>0</th>\n",
       "      <td>1</td>\n",
       "      <td>111th Congress</td>\n",
       "    </tr>\n",
       "    <tr>\n",
       "      <th>1</th>\n",
       "      <td>2</td>\n",
       "      <td>AGNA USEMB Kabul Afghanistan</td>\n",
       "    </tr>\n",
       "    <tr>\n",
       "      <th>2</th>\n",
       "      <td>3</td>\n",
       "      <td>AP</td>\n",
       "    </tr>\n",
       "    <tr>\n",
       "      <th>3</th>\n",
       "      <td>4</td>\n",
       "      <td>ASUNCION</td>\n",
       "    </tr>\n",
       "    <tr>\n",
       "      <th>4</th>\n",
       "      <td>5</td>\n",
       "      <td>Alec</td>\n",
       "    </tr>\n",
       "  </tbody>\n",
       "</table>\n",
       "</div>"
      ],
      "text/plain": [
       "   Id                          Name\n",
       "0   1                111th Congress\n",
       "1   2  AGNA USEMB Kabul Afghanistan\n",
       "2   3                            AP\n",
       "3   4                      ASUNCION\n",
       "4   5                          Alec"
      ]
     },
     "execution_count": 7,
     "metadata": {},
     "output_type": "execute_result"
    }
   ],
   "source": [
    "person_table.head()"
   ]
  },
  {
   "cell_type": "code",
   "execution_count": 8,
   "metadata": {
    "collapsed": false
   },
   "outputs": [
    {
     "data": {
      "text/html": [
       "<div>\n",
       "<table border=\"1\" class=\"dataframe\">\n",
       "  <thead>\n",
       "    <tr style=\"text-align: right;\">\n",
       "      <th></th>\n",
       "      <th>Id</th>\n",
       "      <th>Alias</th>\n",
       "      <th>PersonId</th>\n",
       "    </tr>\n",
       "  </thead>\n",
       "  <tbody>\n",
       "    <tr>\n",
       "      <th>0</th>\n",
       "      <td>1</td>\n",
       "      <td>111th congress</td>\n",
       "      <td>1</td>\n",
       "    </tr>\n",
       "    <tr>\n",
       "      <th>1</th>\n",
       "      <td>2</td>\n",
       "      <td>agna usemb kabul afghanistan</td>\n",
       "      <td>2</td>\n",
       "    </tr>\n",
       "    <tr>\n",
       "      <th>2</th>\n",
       "      <td>3</td>\n",
       "      <td>ap</td>\n",
       "      <td>3</td>\n",
       "    </tr>\n",
       "    <tr>\n",
       "      <th>3</th>\n",
       "      <td>4</td>\n",
       "      <td>asuncion</td>\n",
       "      <td>4</td>\n",
       "    </tr>\n",
       "    <tr>\n",
       "      <th>4</th>\n",
       "      <td>5</td>\n",
       "      <td>alec</td>\n",
       "      <td>5</td>\n",
       "    </tr>\n",
       "  </tbody>\n",
       "</table>\n",
       "</div>"
      ],
      "text/plain": [
       "   Id                         Alias  PersonId\n",
       "0   1                111th congress         1\n",
       "1   2  agna usemb kabul afghanistan         2\n",
       "2   3                            ap         3\n",
       "3   4                      asuncion         4\n",
       "4   5                          alec         5"
      ]
     },
     "execution_count": 8,
     "metadata": {},
     "output_type": "execute_result"
    }
   ],
   "source": [
    "alias_table.head()"
   ]
  },
  {
   "cell_type": "code",
   "execution_count": 9,
   "metadata": {
    "collapsed": false
   },
   "outputs": [
    {
     "data": {
      "text/html": [
       "<div>\n",
       "<table border=\"1\" class=\"dataframe\">\n",
       "  <thead>\n",
       "    <tr style=\"text-align: right;\">\n",
       "      <th></th>\n",
       "      <th>Id</th>\n",
       "      <th>EmailId</th>\n",
       "      <th>PersonId</th>\n",
       "    </tr>\n",
       "  </thead>\n",
       "  <tbody>\n",
       "    <tr>\n",
       "      <th>0</th>\n",
       "      <td>1</td>\n",
       "      <td>1</td>\n",
       "      <td>80</td>\n",
       "    </tr>\n",
       "    <tr>\n",
       "      <th>1</th>\n",
       "      <td>2</td>\n",
       "      <td>2</td>\n",
       "      <td>80</td>\n",
       "    </tr>\n",
       "    <tr>\n",
       "      <th>2</th>\n",
       "      <td>3</td>\n",
       "      <td>3</td>\n",
       "      <td>228</td>\n",
       "    </tr>\n",
       "    <tr>\n",
       "      <th>3</th>\n",
       "      <td>4</td>\n",
       "      <td>3</td>\n",
       "      <td>80</td>\n",
       "    </tr>\n",
       "    <tr>\n",
       "      <th>4</th>\n",
       "      <td>5</td>\n",
       "      <td>4</td>\n",
       "      <td>80</td>\n",
       "    </tr>\n",
       "  </tbody>\n",
       "</table>\n",
       "</div>"
      ],
      "text/plain": [
       "   Id  EmailId  PersonId\n",
       "0   1        1        80\n",
       "1   2        2        80\n",
       "2   3        3       228\n",
       "3   4        3        80\n",
       "4   5        4        80"
      ]
     },
     "execution_count": 9,
     "metadata": {},
     "output_type": "execute_result"
    }
   ],
   "source": [
    "email_rec_table.head()"
   ]
  },
  {
   "cell_type": "code",
   "execution_count": 10,
   "metadata": {
    "collapsed": false
   },
   "outputs": [
    {
     "name": "stdout",
     "output_type": "stream",
     "text": [
      "908\n",
      "513\n",
      "850\n",
      "9306\n"
     ]
    }
   ],
   "source": [
    "print len(emails_table)\n",
    "print len(person_table)\n",
    "print len(alias_table)\n",
    "print len(email_rec_table)"
   ]
  },
  {
   "cell_type": "code",
   "execution_count": 11,
   "metadata": {
    "collapsed": false
   },
   "outputs": [],
   "source": [
    "emails_table['doc'] = emails_table[\"ExtractedSubject\"] + \" \" + emails_table[\"ExtractedBodyText\"]"
   ]
  },
  {
   "cell_type": "code",
   "execution_count": 12,
   "metadata": {
    "collapsed": false
   },
   "outputs": [],
   "source": [
    "def clean_text(text):\n",
    "    ot = text\n",
    "    # Remove any beginning or ending whitespace\n",
    "    text.strip()\n",
    "    # Combine conjunctions\n",
    "    text = re.sub(r\"'\", \"\", text)\n",
    "    # Replace punctuation with space\n",
    "    text = text.translate(string.maketrans(string.punctuation,''.join(\" \" for char in string.punctuation)))\n",
    "    # Replace all control characters\n",
    "    text = ''.join(char if isprint(char) else \" \" for char in text)\n",
    "    # Remove Digits\n",
    "    text = re.sub(r\"[0-9]\", \" \", text)\n",
    "    \n",
    "    \n",
    "    text = text.lower()\n",
    "    text_list = [token for token in text.split() if token not in stop_words and len(token) > 1]\n",
    "    return text_list"
   ]
  },
  {
   "cell_type": "code",
   "execution_count": 13,
   "metadata": {
    "collapsed": false
   },
   "outputs": [],
   "source": [
    "emails_table['token_list'] = emails_table['doc'].apply(lambda s: clean_text(s))"
   ]
  },
  {
   "cell_type": "code",
   "execution_count": 14,
   "metadata": {
    "collapsed": false
   },
   "outputs": [],
   "source": [
    "dictionary = gensim.corpora.Dictionary(list(emails_table['token_list']))\n",
    "dictionary.filter_extremes(2,.1)"
   ]
  },
  {
   "cell_type": "code",
   "execution_count": 15,
   "metadata": {
    "collapsed": false
   },
   "outputs": [
    {
     "data": {
      "text/html": [
       "<div>\n",
       "<table border=\"1\" class=\"dataframe\">\n",
       "  <thead>\n",
       "    <tr style=\"text-align: right;\">\n",
       "      <th></th>\n",
       "      <th>SenderPersonId</th>\n",
       "      <th>Id</th>\n",
       "    </tr>\n",
       "  </thead>\n",
       "  <tbody>\n",
       "    <tr>\n",
       "      <th>2</th>\n",
       "      <td>32.0</td>\n",
       "      <td>3</td>\n",
       "    </tr>\n",
       "    <tr>\n",
       "      <th>16</th>\n",
       "      <td>213.0</td>\n",
       "      <td>17</td>\n",
       "    </tr>\n",
       "    <tr>\n",
       "      <th>17</th>\n",
       "      <td>213.0</td>\n",
       "      <td>18</td>\n",
       "    </tr>\n",
       "    <tr>\n",
       "      <th>65</th>\n",
       "      <td>80.0</td>\n",
       "      <td>66</td>\n",
       "    </tr>\n",
       "    <tr>\n",
       "      <th>82</th>\n",
       "      <td>80.0</td>\n",
       "      <td>83</td>\n",
       "    </tr>\n",
       "  </tbody>\n",
       "</table>\n",
       "</div>"
      ],
      "text/plain": [
       "    SenderPersonId  Id\n",
       "2             32.0   3\n",
       "16           213.0  17\n",
       "17           213.0  18\n",
       "65            80.0  66\n",
       "82            80.0  83"
      ]
     },
     "execution_count": 15,
     "metadata": {},
     "output_type": "execute_result"
    }
   ],
   "source": [
    "emails_table[['SenderPersonId', 'Id']].head()"
   ]
  },
  {
   "cell_type": "code",
   "execution_count": 16,
   "metadata": {
    "collapsed": false
   },
   "outputs": [
    {
     "data": {
      "text/plain": [
       "505"
      ]
     },
     "execution_count": 16,
     "metadata": {},
     "output_type": "execute_result"
    }
   ],
   "source": [
    "person_IDs = list(set(email_rec_table['PersonId']))\n",
    "id2docs = {}\n",
    "for pid in person_IDs:\n",
    "    id2docs[pid] = list(emails_table[emails_table['SenderPersonId'] == pid]['token_list'])\n",
    "len(id2docs[80])"
   ]
  },
  {
   "cell_type": "code",
   "execution_count": 17,
   "metadata": {
    "collapsed": false
   },
   "outputs": [
    {
     "name": "stdout",
     "output_type": "stream",
     "text": [
      "908\n",
      "9767\n",
      "8921\n"
     ]
    }
   ],
   "source": [
    "print dictionary.num_docs\n",
    "print dictionary.num_pos\n",
    "print dictionary.num_nnz"
   ]
  },
  {
   "cell_type": "code",
   "execution_count": 18,
   "metadata": {
    "collapsed": false
   },
   "outputs": [],
   "source": [
    "corpus = [dictionary.doc2bow(text) for text in emails_table['token_list']]"
   ]
  },
  {
   "cell_type": "code",
   "execution_count": 19,
   "metadata": {
    "collapsed": false
   },
   "outputs": [],
   "source": [
    "#minP = 100\n",
    "#currmin = 50\n",
    "#for j in range(3):\n",
    "#    for i in range(2,100):\n",
    "#        lda = gensim.models.ldamodel.LdaModel(corpus=corpus, id2word=dictionary, num_topics=i)\n",
    "#        newP = lda.log_perplexity(corpus)\n",
    "#        if newP < minP:\n",
    "#            currmin= i\n",
    "#            minP = newP\n",
    "#print currmin\n",
    "\n",
    "#the above was a search over number of topics for the LDA model with lowest perplexity - the number found in 3 tries was 98\n"
   ]
  },
  {
   "cell_type": "code",
   "execution_count": 24,
   "metadata": {
    "collapsed": false
   },
   "outputs": [],
   "source": [
    "nt = 98\n",
    "#only edges with weights above this threshold will be included.\n",
    "w_thresh = .000000000005\n",
    "lda = gensim.models.ldamodel.LdaModel(corpus=corpus, id2word=dictionary, num_topics=nt)\n",
    "#initialize complete matrix of empty weights. this probably isn't necessary\n",
    "weights = np.zeros((len(person_IDs),nt))\n",
    "#for each person\n",
    "for i in range(len(person_IDs)):\n",
    "    #for each document the person wrote\n",
    "    for sublist in id2docs[person_IDs[i]]:\n",
    "        #get any topics with probability higher than w_thresh for that document\n",
    "        vals = lda.get_document_topics(dictionary.doc2bow(item for item in sublist),w_thresh)\n",
    "        for pair in vals:\n",
    "            weights[i][pair[0]] += pair[1]"
   ]
  },
  {
   "cell_type": "code",
   "execution_count": 25,
   "metadata": {
    "collapsed": false
   },
   "outputs": [
    {
     "name": "stdout",
     "output_type": "stream",
     "text": [
      "[  3.52541174   5.31980067   4.23017365   2.96112603   3.11057538\n",
      "   7.24554161   1.8857292    8.23342992   9.17772055   8.36906254\n",
      "   9.18645071   4.12855911   4.09684032   6.28246676   3.29684032\n",
      "   3.81469505   2.66153638   2.71906254   3.29684032   3.65398317\n",
      "   3.16991724   3.46077297   5.74089946   4.27036505   4.12030997\n",
      "   4.1140882    4.40775331   5.09481682   5.47385497   7.86965518\n",
      "   4.33017365   4.87184032   9.47457432   2.82541174   3.99384882\n",
      "   4.18731651   2.58017365   8.28107246   4.47064984   6.03855848\n",
      "   4.35993555   3.09861852   4.94625393   4.68520015   4.38465465\n",
      "   4.14684032   2.88945609   3.9797661    6.40891761   3.51350698\n",
      "   2.89052949   5.52962817   3.82865514   5.31309379   4.94766789\n",
      "   6.05389359   4.66293929   3.73517483   7.72101767   2.62184032\n",
      "   4.28438988   8.612057     4.70324303   4.52966549   4.8946224\n",
      "   4.54695687   5.7517552    6.12067481   4.34287206   2.04905823\n",
      "   5.75836611   7.17425752   9.42541174   7.00907311   7.37746734\n",
      "   6.10086962   8.45080393   5.82190795   6.26310793   6.73936168\n",
      "   4.03017365   6.6609306    5.79132318   4.9857292   10.67272304\n",
      "   3.3777927    3.60239588   6.47739587   5.14445936   6.74041538\n",
      "   4.14122822   6.20860854   4.63809906   9.13846635   4.53017365\n",
      "   3.78531452   4.90229984   4.5270601 ]\n"
     ]
    }
   ],
   "source": [
    "#these are Hillary's outgoing weights\n",
    "print weights[person_IDs.index(80)]"
   ]
  },
  {
   "cell_type": "code",
   "execution_count": null,
   "metadata": {
    "collapsed": true
   },
   "outputs": [],
   "source": []
  }
 ],
 "metadata": {
  "kernelspec": {
   "display_name": "Python 2",
   "language": "python",
   "name": "python2"
  },
  "language_info": {
   "codemirror_mode": {
    "name": "ipython",
    "version": 2
   },
   "file_extension": ".py",
   "mimetype": "text/x-python",
   "name": "python",
   "nbconvert_exporter": "python",
   "pygments_lexer": "ipython2",
   "version": "2.7.5+"
  }
 },
 "nbformat": 4,
 "nbformat_minor": 0
}
